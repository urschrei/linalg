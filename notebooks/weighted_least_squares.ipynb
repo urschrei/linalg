{
 "metadata": {
  "name": "",
  "signature": "sha256:cd3915fc8a86fa7004f74323c0a53f861579141e51f4f47cce75ecaec7d0785f"
 },
 "nbformat": 3,
 "nbformat_minor": 0,
 "worksheets": [
  {
   "cells": [
    {
     "cell_type": "heading",
     "level": 1,
     "metadata": {},
     "source": [
      "Problem Outline"
     ]
    },
    {
     "cell_type": "markdown",
     "metadata": {},
     "source": [
      "Consider a dataset (`ground_control_points.csv`, measured in eastings and northings) representing a set of ground control points. The coordinates of these points have also been measured using satellite imaging (`coordinates.csv`, as x and y coordinates).  \n",
      "\n",
      "A suitable model for transforming the data from the imaged coordinates into the ground coordinates is to be derived, and the best estimates of the corresponding parameters are to be determined.\n",
      "\n",
      "Candidate models are the **similarity** and **affine** transformations, the equations for which are given below."
     ]
    },
    {
     "cell_type": "markdown",
     "metadata": {},
     "source": [
      "## Forming The Matrices ##\n",
      "### Similarity ###\n",
      "The similarity matrix, $A_{sim}$, is designed using the following equations:\n",
      "\n",
      "\\begin{equation}\n",
      "f_i(a, b, \\Delta{x})=ax_i - by_i + \\Delta{x} \\\\\\\n",
      "f_i(a, b, \\Delta{y})=bx_i + ay_i + \\Delta{y}\n",
      "\\end{equation}\n",
      "\n",
      "Thus, our design matrix requires four parameters: $E, N, x, y$. This results in a matrix with the following shape:\n",
      "\n",
      "\\begin{bmatrix}\n",
      "E_1& -N_1& 1& 0\\\\\\\n",
      "\\vdots& \\vdots& \\vdots& \\vdots\\\\\\\n",
      "E_n& -N_n& 1& 0\\\\\\\n",
      "N_1& E_1&  0& 1\\\\\\\n",
      "\\vdots& \\vdots& \\vdots& \\vdots\\\\\\\n",
      "N_n& E_n& 0& 1\n",
      "\\end{bmatrix}\n",
      "\n",
      "### Affine ###\n",
      "The affine matrix, $A_{aff}$, is designed using the following equations:\n",
      "\n",
      "\\begin{equation}\n",
      "f_i(a_0, a_1, a_2) = a_0 + a_1x_i + a_2y_i \\\\\\\n",
      "f_i(b_0, b_1, b_2) = b_0 + b_1x_i + b_2y_i\n",
      "\\end{equation}\n",
      "\n",
      "This results in a matrix with the following shape:\n",
      "\n",
      "\\begin{bmatrix}\n",
      "1& E_1& N_1& 0& 0& 0 \\\\\\\n",
      "\\vdots& \\vdots& \\vdots& \\vdots& \\vdots& \\vdots\\\\\\\n",
      "1& E_n& N_n& 0& 0& 0 \\\\\\\n",
      "0& 0& 0& 1& E_1& N_1 \\\\\\\n",
      "\\vdots& \\vdots& \\vdots& \\vdots& \\vdots& \\vdots\\\\\\\n",
      "0& 0& 0& 1& E_n& N_n\n",
      "\\end{bmatrix}\n",
      "\n",
      "The $b$ vector is identical for both transforms, and is formed of all the $x$ components of the observations, followed by all the $y$ components of the observations.  \n",
      "The covariance matrix $C_b$ is usually diagonal, but in this case `statsmodels` requires a vector, of identical dimensions to $b$. It is formed of the square of the standard deviation of the $x$ values, for all $x$, followed by the square of the standard deviation of the $y$ values, for all $y$. Statsmodels requires it in the form of $1/C_b$.  It is converted into a diagonal weight matrix, **W**, in order to obtain the quality $(\\sigma)$ of the transformations."
     ]
    },
    {
     "cell_type": "code",
     "collapsed": false,
     "input": [
      "import pandas as pd\n",
      "import numpy as np\n",
      "import matplotlib.pyplot as plt\n",
      "import statsmodels\n",
      "import statsmodels.formula.api as sm\n",
      "%matplotlib inline"
     ],
     "language": "python",
     "metadata": {},
     "outputs": [],
     "prompt_number": 1
    },
    {
     "cell_type": "markdown",
     "metadata": {},
     "source": [
      "Only execute the cell below if you have $\\LaTeX$ and the appropriate fonts installed."
     ]
    },
    {
     "cell_type": "code",
     "collapsed": false,
     "input": [
      "from matplotlib import rc\n",
      "rc('font', **{'family':'sans-serif',\n",
      "    'sans-serif':['Helvetica'],\n",
      "    'monospace': ['Inconsolata'],\n",
      "    'serif': ['Helvetica']})\n",
      "rc('text', **{'usetex': True})\n",
      "rc('text', **{'latex.preamble': '\\usepackage{sfmath}'})"
     ],
     "language": "python",
     "metadata": {},
     "outputs": [],
     "prompt_number": 2
    },
    {
     "cell_type": "code",
     "collapsed": false,
     "input": [
      "# imaged observations\n",
      "coords = pd.read_csv('../data/coordinates.csv', index_col=0)\n",
      "# ground control points\n",
      "ground_control_points = pd.read_csv('../data/ground_control_points.csv')"
     ],
     "language": "python",
     "metadata": {},
     "outputs": [],
     "prompt_number": 3
    },
    {
     "cell_type": "heading",
     "level": 2,
     "metadata": {},
     "source": [
      "Form Design Matrices"
     ]
    },
    {
     "cell_type": "heading",
     "level": 4,
     "metadata": {},
     "source": [
      "Since the design matrices are formed of the easting and northing measurements and various arrangements of one and zero columns, it's easiest to create them using concatenated dataframes"
     ]
    },
    {
     "cell_type": "code",
     "collapsed": false,
     "input": [
      "dflen = len(ground_control_points)\n",
      "zeros = np.zeros(dflen)\n",
      "ones = np.ones(dflen)\n",
      "\n",
      "# affine transform A matrix\n",
      "affine_A = pd.DataFrame({\n",
      "    'a': ones,\n",
      "    'a1x': ground_control_points['E'],\n",
      "    'a2y': ground_control_points['N'],\n",
      "    'b': zeros,\n",
      "    'b1x': zeros,\n",
      "    'b2y': zeros,\n",
      "}).append(pd.DataFrame({\n",
      "    'a': zeros,\n",
      "    'a1x': zeros,\n",
      "    'a2y': zeros,\n",
      "    'b': ones,\n",
      "    'b1x': ground_control_points['E'],\n",
      "    'b2y': ground_control_points['N'],\n",
      "    }), ignore_index=True\n",
      ")"
     ],
     "language": "python",
     "metadata": {},
     "outputs": [],
     "prompt_number": 4
    },
    {
     "cell_type": "code",
     "collapsed": false,
     "input": [
      "# similarity transform A matrix\n",
      "similarity_A = pd.DataFrame({\n",
      "    'a': ground_control_points['E'],\n",
      "    'b': ground_control_points['N'] * -1,\n",
      "    'Delta_x': ones,\n",
      "    'Delta_y': zeros,\n",
      "}).append(pd.DataFrame({\n",
      "    'a': ground_control_points['N'],\n",
      "    'b': ground_control_points['E'],\n",
      "    'Delta_x': zeros,\n",
      "    'Delta_y': ones,\n",
      "    }), ignore_index=True\n",
      ")"
     ],
     "language": "python",
     "metadata": {},
     "outputs": [],
     "prompt_number": 5
    },
    {
     "cell_type": "heading",
     "level": 2,
     "metadata": {},
     "source": [
      "Form b Vector"
     ]
    },
    {
     "cell_type": "code",
     "collapsed": false,
     "input": [
      "b_vector = pd.DataFrame({\n",
      "    'coordinates': pd.concat([\n",
      "        coords['x_coordinates'],\n",
      "        coords['y_coordinates']],\n",
      "        ignore_index=True)\n",
      "    })\n",
      "\n",
      "b_vector.head()"
     ],
     "language": "python",
     "metadata": {},
     "outputs": [
      {
       "html": [
        "<div style=\"max-height:1000px;max-width:1500px;overflow:auto;\">\n",
        "<table border=\"1\" class=\"dataframe\">\n",
        "  <thead>\n",
        "    <tr style=\"text-align: right;\">\n",
        "      <th></th>\n",
        "      <th>coordinates</th>\n",
        "    </tr>\n",
        "  </thead>\n",
        "  <tbody>\n",
        "    <tr>\n",
        "      <th>0</th>\n",
        "      <td>-0.149588</td>\n",
        "    </tr>\n",
        "    <tr>\n",
        "      <th>1</th>\n",
        "      <td> 0.117489</td>\n",
        "    </tr>\n",
        "    <tr>\n",
        "      <th>2</th>\n",
        "      <td> 0.071546</td>\n",
        "    </tr>\n",
        "    <tr>\n",
        "      <th>3</th>\n",
        "      <td> 0.012923</td>\n",
        "    </tr>\n",
        "    <tr>\n",
        "      <th>4</th>\n",
        "      <td> 0.059942</td>\n",
        "    </tr>\n",
        "  </tbody>\n",
        "</table>\n",
        "</div>"
       ],
       "metadata": {},
       "output_type": "pyout",
       "prompt_number": 6,
       "text": [
        "   coordinates\n",
        "0    -0.149588\n",
        "1     0.117489\n",
        "2     0.071546\n",
        "3     0.012923\n",
        "4     0.059942"
       ]
      }
     ],
     "prompt_number": 6
    },
    {
     "cell_type": "heading",
     "level": 2,
     "metadata": {},
     "source": [
      "Join design matrix and b vector into single DataFrames, for easier manipulation"
     ]
    },
    {
     "cell_type": "code",
     "collapsed": false,
     "input": [
      "affine_A = affine_A.join(b_vector)\n",
      "similarity_A = similarity_A.join(b_vector)"
     ],
     "language": "python",
     "metadata": {},
     "outputs": [],
     "prompt_number": 7
    },
    {
     "cell_type": "heading",
     "level": 2,
     "metadata": {},
     "source": [
      "Create a covariance vector"
     ]
    },
    {
     "cell_type": "code",
     "collapsed": false,
     "input": [
      "# we can safely divide by 2, because we're guaranteed an equal number of x and y coords\n",
      "half = len(b_vector) / 2\n",
      "covariance = pd.Series(\n",
      "    [b_vector['coordinates'][:half].std() ** 2] * half +\n",
      "    [b_vector['coordinates'][half:].std() ** 2] * half\n",
      ")\n",
      "print(covariance.head())\n",
      "print(covariance.tail())"
     ],
     "language": "python",
     "metadata": {},
     "outputs": [
      {
       "output_type": "stream",
       "stream": "stdout",
       "text": [
        "0    0.007911\n",
        "1    0.007911\n",
        "2    0.007911\n",
        "3    0.007911\n",
        "4    0.007911\n",
        "dtype: float64\n",
        "103    0.00751\n",
        "104    0.00751\n",
        "105    0.00751\n",
        "106    0.00751\n",
        "107    0.00751\n",
        "dtype: float64\n"
       ]
      }
     ],
     "prompt_number": 8
    },
    {
     "cell_type": "heading",
     "level": 2,
     "metadata": {},
     "source": [
      "Carry out the regressions"
     ]
    },
    {
     "cell_type": "code",
     "collapsed": false,
     "input": [
      "affine_results = sm.wls(\n",
      "    formula='coordinates ~ a + a1x + a2y + b + b1x + b2y',\n",
      "    data=affine_A,\n",
      "    weights=1 / covariance).fit()\n",
      "affine_results.summary()"
     ],
     "language": "python",
     "metadata": {},
     "outputs": [
      {
       "html": [
        "<table class=\"simpletable\">\n",
        "<caption>WLS Regression Results</caption>\n",
        "<tr>\n",
        "  <th>Dep. Variable:</th>       <td>coordinates</td>   <th>  R-squared:         </th> <td>   1.000</td> \n",
        "</tr>\n",
        "<tr>\n",
        "  <th>Model:</th>                   <td>WLS</td>       <th>  Adj. R-squared:    </th> <td>   1.000</td> \n",
        "</tr>\n",
        "<tr>\n",
        "  <th>Method:</th>             <td>Least Squares</td>  <th>  F-statistic:       </th> <td>9.316e+05</td>\n",
        "</tr>\n",
        "<tr>\n",
        "  <th>Date:</th>             <td>Mon, 15 Dec 2014</td> <th>  Prob (F-statistic):</th> <td>6.51e-236</td>\n",
        "</tr>\n",
        "<tr>\n",
        "  <th>Time:</th>                 <td>16:26:52</td>     <th>  Log-Likelihood:    </th> <td>  426.91</td> \n",
        "</tr>\n",
        "<tr>\n",
        "  <th>No. Observations:</th>      <td>   108</td>      <th>  AIC:               </th> <td>  -841.8</td> \n",
        "</tr>\n",
        "<tr>\n",
        "  <th>Df Residuals:</th>          <td>   102</td>      <th>  BIC:               </th> <td>  -825.7</td> \n",
        "</tr>\n",
        "<tr>\n",
        "  <th>Df Model:</th>              <td>     5</td>      <th>                     </th>     <td> </td>    \n",
        "</tr>\n",
        "</table>\n",
        "<table class=\"simpletable\">\n",
        "<tr>\n",
        "      <td></td>         <th>coef</th>     <th>std err</th>      <th>t</th>      <th>P>|t|</th> <th>[95.0% Conf. Int.]</th> \n",
        "</tr>\n",
        "<tr>\n",
        "  <th>Intercept</th> <td>  -43.4359</td> <td>    0.037</td> <td>-1176.088</td> <td> 0.000</td> <td>  -43.509   -43.363</td>\n",
        "</tr>\n",
        "<tr>\n",
        "  <th>a</th>         <td>  -75.2691</td> <td>    0.059</td> <td>-1279.011</td> <td> 0.000</td> <td>  -75.386   -75.152</td>\n",
        "</tr>\n",
        "<tr>\n",
        "  <th>a1x</th>       <td>    0.0002</td> <td> 1.64e-07</td> <td> 1306.384</td> <td> 0.000</td> <td>    0.000     0.000</td>\n",
        "</tr>\n",
        "<tr>\n",
        "  <th>a2y</th>       <td>  6.12e-05</td> <td> 1.52e-07</td> <td>  402.923</td> <td> 0.000</td> <td> 6.09e-05  6.15e-05</td>\n",
        "</tr>\n",
        "<tr>\n",
        "  <th>b</th>         <td>   31.8332</td> <td>    0.058</td> <td>  549.436</td> <td> 0.000</td> <td>   31.718    31.948</td>\n",
        "</tr>\n",
        "<tr>\n",
        "  <th>b1x</th>       <td>-6.055e-05</td> <td> 1.59e-07</td> <td> -380.059</td> <td> 0.000</td> <td>-6.09e-05 -6.02e-05</td>\n",
        "</tr>\n",
        "<tr>\n",
        "  <th>b2y</th>       <td>    0.0002</td> <td> 1.48e-07</td> <td> 1522.644</td> <td> 0.000</td> <td>    0.000     0.000</td>\n",
        "</tr>\n",
        "</table>\n",
        "<table class=\"simpletable\">\n",
        "<tr>\n",
        "  <th>Omnibus:</th>       <td>132.905</td> <th>  Durbin-Watson:     </th> <td>   2.064</td>\n",
        "</tr>\n",
        "<tr>\n",
        "  <th>Prob(Omnibus):</th> <td> 0.000</td>  <th>  Jarque-Bera (JB):  </th> <td>2298.216</td>\n",
        "</tr>\n",
        "<tr>\n",
        "  <th>Skew:</th>          <td>-4.513</td>  <th>  Prob(JB):          </th> <td>    0.00</td>\n",
        "</tr>\n",
        "<tr>\n",
        "  <th>Kurtosis:</th>      <td>23.719</td>  <th>  Cond. No.          </th> <td>1.37e+09</td>\n",
        "</tr>\n",
        "</table>"
       ],
       "metadata": {},
       "output_type": "pyout",
       "prompt_number": 9,
       "text": [
        "<class 'statsmodels.iolib.summary.Summary'>\n",
        "\"\"\"\n",
        "                            WLS Regression Results                            \n",
        "==============================================================================\n",
        "Dep. Variable:            coordinates   R-squared:                       1.000\n",
        "Model:                            WLS   Adj. R-squared:                  1.000\n",
        "Method:                 Least Squares   F-statistic:                 9.316e+05\n",
        "Date:                Mon, 15 Dec 2014   Prob (F-statistic):          6.51e-236\n",
        "Time:                        16:26:52   Log-Likelihood:                 426.91\n",
        "No. Observations:                 108   AIC:                            -841.8\n",
        "Df Residuals:                     102   BIC:                            -825.7\n",
        "Df Model:                           5                                         \n",
        "==============================================================================\n",
        "                 coef    std err          t      P>|t|      [95.0% Conf. Int.]\n",
        "------------------------------------------------------------------------------\n",
        "Intercept    -43.4359      0.037  -1176.088      0.000       -43.509   -43.363\n",
        "a            -75.2691      0.059  -1279.011      0.000       -75.386   -75.152\n",
        "a1x            0.0002   1.64e-07   1306.384      0.000         0.000     0.000\n",
        "a2y          6.12e-05   1.52e-07    402.923      0.000      6.09e-05  6.15e-05\n",
        "b             31.8332      0.058    549.436      0.000        31.718    31.948\n",
        "b1x        -6.055e-05   1.59e-07   -380.059      0.000     -6.09e-05 -6.02e-05\n",
        "b2y            0.0002   1.48e-07   1522.644      0.000         0.000     0.000\n",
        "==============================================================================\n",
        "Omnibus:                      132.905   Durbin-Watson:                   2.064\n",
        "Prob(Omnibus):                  0.000   Jarque-Bera (JB):             2298.216\n",
        "Skew:                          -4.513   Prob(JB):                         0.00\n",
        "Kurtosis:                      23.719   Cond. No.                     1.37e+09\n",
        "==============================================================================\n",
        "\n",
        "Warnings:\n",
        "[1] The condition number is large, 1.37e+09. This might indicate that there are\n",
        "strong multicollinearity or other numerical problems.\n",
        "\"\"\""
       ]
      }
     ],
     "prompt_number": 9
    },
    {
     "cell_type": "code",
     "collapsed": false,
     "input": [
      "similarity_results = sm.wls(\n",
      "    formula='coordinates ~ a + b + Delta_x + Delta_y',\n",
      "    data=similarity_A,\n",
      "    weights=1 / covariance).fit()\n",
      "similarity_results.summary()"
     ],
     "language": "python",
     "metadata": {},
     "outputs": [
      {
       "html": [
        "<table class=\"simpletable\">\n",
        "<caption>WLS Regression Results</caption>\n",
        "<tr>\n",
        "  <th>Dep. Variable:</th>       <td>coordinates</td>   <th>  R-squared:         </th> <td>   0.999</td> \n",
        "</tr>\n",
        "<tr>\n",
        "  <th>Model:</th>                   <td>WLS</td>       <th>  Adj. R-squared:    </th> <td>   0.999</td> \n",
        "</tr>\n",
        "<tr>\n",
        "  <th>Method:</th>             <td>Least Squares</td>  <th>  F-statistic:       </th> <td>5.503e+04</td>\n",
        "</tr>\n",
        "<tr>\n",
        "  <th>Date:</th>             <td>Mon, 15 Dec 2014</td> <th>  Prob (F-statistic):</th> <td>2.91e-166</td>\n",
        "</tr>\n",
        "<tr>\n",
        "  <th>Time:</th>                 <td>16:26:53</td>     <th>  Log-Likelihood:    </th> <td>  245.55</td> \n",
        "</tr>\n",
        "<tr>\n",
        "  <th>No. Observations:</th>      <td>   108</td>      <th>  AIC:               </th> <td>  -483.1</td> \n",
        "</tr>\n",
        "<tr>\n",
        "  <th>Df Residuals:</th>          <td>   104</td>      <th>  BIC:               </th> <td>  -472.4</td> \n",
        "</tr>\n",
        "<tr>\n",
        "  <th>Df Model:</th>              <td>     3</td>      <th>                     </th>     <td> </td>    \n",
        "</tr>\n",
        "</table>\n",
        "<table class=\"simpletable\">\n",
        "<tr>\n",
        "      <td></td>         <th>coef</th>     <th>std err</th>      <th>t</th>      <th>P>|t|</th> <th>[95.0% Conf. Int.]</th> \n",
        "</tr>\n",
        "<tr>\n",
        "  <th>Intercept</th> <td>  -44.2930</td> <td>    0.141</td> <td> -313.207</td> <td> 0.000</td> <td>  -44.573   -44.013</td>\n",
        "</tr>\n",
        "<tr>\n",
        "  <th>a</th>         <td>    0.0002</td> <td> 5.61e-07</td> <td>  392.234</td> <td> 0.000</td> <td>    0.000     0.000</td>\n",
        "</tr>\n",
        "<tr>\n",
        "  <th>b</th>         <td>-5.932e-05</td> <td> 5.62e-07</td> <td> -105.497</td> <td> 0.000</td> <td>-6.04e-05 -5.82e-05</td>\n",
        "</tr>\n",
        "<tr>\n",
        "  <th>Delta_x</th>   <td>  -77.3361</td> <td>    0.225</td> <td> -343.520</td> <td> 0.000</td> <td>  -77.783   -76.890</td>\n",
        "</tr>\n",
        "<tr>\n",
        "  <th>Delta_y</th>   <td>   33.0430</td> <td>    0.225</td> <td>  147.046</td> <td> 0.000</td> <td>   32.597    33.489</td>\n",
        "</tr>\n",
        "</table>\n",
        "<table class=\"simpletable\">\n",
        "<tr>\n",
        "  <th>Omnibus:</th>       <td> 3.832</td> <th>  Durbin-Watson:     </th> <td>   2.442</td>\n",
        "</tr>\n",
        "<tr>\n",
        "  <th>Prob(Omnibus):</th> <td> 0.147</td> <th>  Jarque-Bera (JB):  </th> <td>   2.145</td>\n",
        "</tr>\n",
        "<tr>\n",
        "  <th>Skew:</th>          <td>-0.016</td> <th>  Prob(JB):          </th> <td>   0.342</td>\n",
        "</tr>\n",
        "<tr>\n",
        "  <th>Kurtosis:</th>      <td> 2.310</td> <th>  Cond. No.          </th> <td>2.68e+13</td>\n",
        "</tr>\n",
        "</table>"
       ],
       "metadata": {},
       "output_type": "pyout",
       "prompt_number": 10,
       "text": [
        "<class 'statsmodels.iolib.summary.Summary'>\n",
        "\"\"\"\n",
        "                            WLS Regression Results                            \n",
        "==============================================================================\n",
        "Dep. Variable:            coordinates   R-squared:                       0.999\n",
        "Model:                            WLS   Adj. R-squared:                  0.999\n",
        "Method:                 Least Squares   F-statistic:                 5.503e+04\n",
        "Date:                Mon, 15 Dec 2014   Prob (F-statistic):          2.91e-166\n",
        "Time:                        16:26:53   Log-Likelihood:                 245.55\n",
        "No. Observations:                 108   AIC:                            -483.1\n",
        "Df Residuals:                     104   BIC:                            -472.4\n",
        "Df Model:                           3                                         \n",
        "==============================================================================\n",
        "                 coef    std err          t      P>|t|      [95.0% Conf. Int.]\n",
        "------------------------------------------------------------------------------\n",
        "Intercept    -44.2930      0.141   -313.207      0.000       -44.573   -44.013\n",
        "a              0.0002   5.61e-07    392.234      0.000         0.000     0.000\n",
        "b          -5.932e-05   5.62e-07   -105.497      0.000     -6.04e-05 -5.82e-05\n",
        "Delta_x      -77.3361      0.225   -343.520      0.000       -77.783   -76.890\n",
        "Delta_y       33.0430      0.225    147.046      0.000        32.597    33.489\n",
        "==============================================================================\n",
        "Omnibus:                        3.832   Durbin-Watson:                   2.442\n",
        "Prob(Omnibus):                  0.147   Jarque-Bera (JB):                2.145\n",
        "Skew:                          -0.016   Prob(JB):                        0.342\n",
        "Kurtosis:                       2.310   Cond. No.                     2.68e+13\n",
        "==============================================================================\n",
        "\n",
        "Warnings:\n",
        "[1] The smallest eigenvalue is 2.88e-12. This might indicate that there are\n",
        "strong multicollinearity problems or that the design matrix is singular.\n",
        "\"\"\""
       ]
      }
     ],
     "prompt_number": 10
    },
    {
     "cell_type": "heading",
     "level": 2,
     "metadata": {},
     "source": [
      "Out-of-band Prediction"
     ]
    },
    {
     "cell_type": "code",
     "collapsed": false,
     "input": [
      "def affine_dict(points):\n",
      "    \"\"\" return dict with the correct parameter arrangement for the affine transform \"\"\"\n",
      "    zeros = np.zeros(len(points))\n",
      "    ones = np.ones(len(points))\n",
      "    return {\n",
      "        'a1x': np.concatenate(([point[0] for point in points], zeros)),\n",
      "        'a2y': np.concatenate(([point[1] for point in points], zeros)),\n",
      "        'b1x': np.concatenate((zeros, [point[0] for point in points])),\n",
      "        'b2y': np.concatenate((zeros, [point[1] for point in points])),\n",
      "        'a': np.concatenate((ones, zeros)),\n",
      "        'b': np.concatenate((zeros, ones))\n",
      "    }\n",
      "\n",
      "def similarity_dict(points):\n",
      "    \"\"\" return dict with the correct parameter arrangement for the similarity transform \"\"\"\n",
      "    zeros = np.zeros(len(points))\n",
      "    ones = np.ones(len(points))\n",
      "    return {\n",
      "        'a': np.concatenate(([point[0] for point in points], [point[1] for point in points])),\n",
      "        'b': np.concatenate(([point[1] * -1 for point in points], [point[0] for point in points])),\n",
      "        'Delta_x': np.concatenate((ones, zeros)),\n",
      "        'Delta_y': np.concatenate((zeros, ones))\n",
      "    }\n",
      "\n",
      "def random_point(df):\n",
      "    \"\"\" return a random point from the uniform distribution using min & max from the df \"\"\"\n",
      "    x = np.random.uniform(\n",
      "        df['E'].min(), df['E'].max())\n",
      "    y = np.random.uniform(\n",
      "        df['N'].min(), df['N'].max())\n",
      "    return x, y"
     ],
     "language": "python",
     "metadata": {},
     "outputs": [],
     "prompt_number": 11
    },
    {
     "cell_type": "code",
     "collapsed": false,
     "input": [
      "# get 10 random points\n",
      "rpoints = [random_point(ground_control_points) for x in xrange(10)]"
     ],
     "language": "python",
     "metadata": {},
     "outputs": [],
     "prompt_number": 12
    },
    {
     "cell_type": "code",
     "collapsed": false,
     "input": [
      "# predict transformed coordinates\n",
      "predicted_affine = list(affine_results.predict(exog=affine_dict(rpoints)))\n",
      "predicted_similarity = list(similarity_results.predict(exog=similarity_dict(rpoints)))"
     ],
     "language": "python",
     "metadata": {},
     "outputs": [],
     "prompt_number": 13
    },
    {
     "cell_type": "heading",
     "level": 2,
     "metadata": {},
     "source": [
      "Plot results"
     ]
    },
    {
     "cell_type": "code",
     "collapsed": false,
     "input": [
      "plt.clf()\n",
      "fig = plt.figure(figsize=(7.28, 7.28))\n",
      "ax = fig.add_subplot(111, aspect='equal', axisbg='none')\n",
      "orig = plt.scatter(\n",
      "    coords['x_coordinates'],\n",
      "    coords['y_coordinates'],\n",
      "    color='#33CCFF',\n",
      "    edgecolor='#333333',\n",
      "    marker='o',\n",
      "    lw=1,\n",
      "    s=80,\n",
      "    alpha=1.0)\n",
      "# the predict() method generates points used to plot updated observations\n",
      "af = plt.scatter(\n",
      "    affine_results.predict()[:half],\n",
      "    affine_results.predict()[half:],\n",
      "    marker='o',\n",
      "    color='#006600',\n",
      "    edgecolor='#333333',\n",
      "    lw=1,\n",
      "    s=25,\n",
      "    alpha=0.75)\n",
      "sm = plt.scatter(\n",
      "    similarity_results.predict()[:half],\n",
      "    similarity_results.predict()[half:],\n",
      "    marker='o',\n",
      "    color='#CC00CC',\n",
      "    edgecolor='#333333',\n",
      "    lw=1,\n",
      "    s=25,\n",
      "    alpha=0.75)\n",
      "\n",
      "pred_aff = plt.scatter(\n",
      "    predicted_affine[:len(rpoints)],\n",
      "    predicted_affine[len(rpoints):],\n",
      "    lw=.8,\n",
      "    s=25,\n",
      "    color='none',\n",
      "    edgecolor='#006600',\n",
      "    hatch='......',\n",
      "    alpha=1.)\n",
      "\n",
      "pred_sim = plt.scatter(\n",
      "    predicted_similarity[:len(rpoints)],\n",
      "    predicted_similarity[len(rpoints):],\n",
      "    lw=.8,\n",
      "    s=25,\n",
      "    color='none',\n",
      "    edgecolor='#CC00CC',\n",
      "    hatch='......',\n",
      "    alpha=1.) \n",
      "\n",
      "ax.set_xlabel('x Coordinates')\n",
      "ax.set_ylabel('y Coordinates')\n",
      "plt.title(\"Imaged Points and Transformations (WLS)\")\n",
      "leg = plt.legend(\n",
      "    (orig, af, sm, pred_aff, pred_sim),\n",
      "    ('Original observations',\n",
      "    r'Affine transform ($\\sigma$: %0.4f)' % np.sqrt(affine_results.mse_resid),\n",
      "    r'Similarity transform ($\\sigma$: %0.4f)' % np.sqrt(similarity_results.scale),\n",
      "    r'Predicted affine transform',\n",
      "    r'Predicted similarity transform'),\n",
      "    loc='upper left',\n",
      "    scatterpoints=1,\n",
      "    fontsize=9)\n",
      "leg.get_frame().set_alpha(0.5)\n",
      "ax.spines['top'].set_visible(False)\n",
      "ax.spines['right'].set_visible(False)\n",
      "plt.tight_layout()\n",
      "ax.grid(b=None)\n",
      "plt.savefig('../WLS.png', format=\"png\", bbox_inches='tight', alpha=True, transparent=True, dpi=100)"
     ],
     "language": "python",
     "metadata": {},
     "outputs": [
      {
       "metadata": {},
       "output_type": "display_data",
       "text": [
        "<matplotlib.figure.Figure at 0x10a4c1490>"
       ]
      },
      {
       "metadata": {},
       "output_type": "display_data",
       "png": "[encoded data removed]",
       "text": [
        "<matplotlib.figure.Figure at 0x10a8a0810>"
       ]
      }
     ],
     "prompt_number": 93
    },
    {
     "cell_type": "heading",
     "level": 2,
     "metadata": {},
     "source": [
      "Conclusion"
     ]
    },
    {
     "cell_type": "markdown",
     "metadata": {},
     "source": [
      "It's clear from the sigma-nought values and by visual inspection of the plot above that the affine transform is the more accurate model."
     ]
    },
    {
     "cell_type": "heading",
     "level": 2,
     "metadata": {},
     "source": [
      "Manually Calculate Out-of-band Values"
     ]
    },
    {
     "cell_type": "markdown",
     "metadata": {},
     "source": [
      "Using statsmodels to predict out-of-band values is useful, but in certain cases we may wish to calculate them 'manually'; that is, by using a transformation matrix to transform given eastings and northings. The parameters returned by our `fit()` method allow us to accomplish this, once we've arranged our input points in the correct shape.\n",
      "\n",
      "The transformation matrix for the affine transform is as follows:\n",
      "\n",
      "\\begin{align}\n",
      "\\begin{bmatrix}\n",
      "    X& \\dots& X_{n}\\\\\\\n",
      "    Y& \\dots& Y_{n}\\\\\\\n",
      "    1& \\dots& 1_{n}\n",
      "\\end{bmatrix}\n",
      "=\n",
      "\\begin{bmatrix}\n",
      "    a1x& a2y& a&\\\\\\\n",
      "    b1x& b2y& b&\\\\\\\n",
      "    0& 0& 1\n",
      "\\end{bmatrix}\n",
      "\\begin{bmatrix}\n",
      "    x& \\dots& x_{n}\\\\\\\n",
      "    y& \\dots& y_{n}\\\\\\\n",
      "    1& \\dots& 1_{n}\n",
      "\\end{bmatrix}\n",
      "\\end{align}\n",
      "\n",
      "([Goshtasby, A.A., 2012. Image Registration: Principles, Tools and Methods. p348]((https://books.google.co.uk/books?id=VthiwQOT6t4C&pg=PA347&lpg=PA347&dq=affine+transform+a+a1x+a2y&source=bl&ots=8WOI4xglcn&sig=iQ3VpSD7xzJ6XIa7ZWhgFm-Izto&hl=en&sa=X&ei=oseOVKbsJofD7gaC6IDgDQ&ved=0CD4Q6AEwBg#v=onepage&q=affine%20transform%20a%20a1x%20a2y&f=false))\n",
      "\n",
      "\n",
      "To which we add the intercept we've calculated."
     ]
    },
    {
     "cell_type": "code",
     "collapsed": false,
     "input": [
      "def affine_oob(params, points):\n",
      "    \"\"\"\n",
      "    Calculate out-of-band points using least-squares params\n",
      "    inputs:\n",
      "        Array of estimated params (intercept, a, a1x a2y, b, b1x, b2y)\n",
      "        List or array of point tuples\n",
      "    returns list of affine-transformed point tuples\n",
      "    \"\"\"\n",
      "    p = params.params\n",
      "    # form affine matrix\n",
      "    tmatrix = np.vstack([\n",
      "        np.array([p[2], p[3], p[1]]),\n",
      "        np.array([p[5], p[6], p[4]]),\n",
      "        np.array([0, 0, 1])\n",
      "    ])\n",
      "    # form param matrix\n",
      "    orig = np.vstack([(point[0], point[1], 1) for point in points]).T\n",
      "    dot_result = np.dot(tmatrix, orig)\n",
      "    # add intercept\n",
      "    with_intercept = [dot_result[0] + p[0], dot_result[1] + p[0]]\n",
      "    return zip(with_intercept[0], with_intercept[1])"
     ],
     "language": "python",
     "metadata": {},
     "outputs": [],
     "prompt_number": 440
    },
    {
     "cell_type": "code",
     "collapsed": false,
     "input": [
      "# second result from statsmodels prediction\n",
      "predicted_affine[1], predicted_affine[11] "
     ],
     "language": "python",
     "metadata": {},
     "outputs": [
      {
       "metadata": {},
       "output_type": "pyout",
       "prompt_number": 442,
       "text": [
        "(-0.14631872260606826, 0.00088516989013598391)"
       ]
      }
     ],
     "prompt_number": 442
    },
    {
     "cell_type": "code",
     "collapsed": false,
     "input": [
      "res = affine_oob(affine_results, rpoints)\n",
      "# second manually-calculated point\n",
      "res[1]"
     ],
     "language": "python",
     "metadata": {},
     "outputs": [
      {
       "metadata": {},
       "output_type": "pyout",
       "prompt_number": 441,
       "text": [
        "(-0.14631872260606826, 0.00088516989012532576)"
       ]
      }
     ],
     "prompt_number": 441
    },
    {
     "cell_type": "code",
     "collapsed": false,
     "input": [],
     "language": "python",
     "metadata": {},
     "outputs": []
    }
   ],
   "metadata": {}
  }
 ]
}