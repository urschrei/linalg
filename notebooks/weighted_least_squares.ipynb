{
 "cells": [
  {
   "cell_type": "markdown",
   "metadata": {},
   "source": [
    "# Problem Outline"
   ]
  },
  {
   "cell_type": "markdown",
   "metadata": {},
   "source": [
    "Consider a dataset (`ground_control_points.csv`, measured in eastings and northings) representing a set of ground control points. The coordinates of these points have also been measured using satellite imaging (`coordinates.csv`, as `x` and `y` coordinates).  \n",
    "\n",
    "A suitable model for transforming the data from the imaged coordinates into the ground coordinates is to be derived, and the best estimates of the corresponding parameters are to be determined.\n",
    "\n",
    "Candidate models are the **similarity** and **affine** transformations, the equations for which are given below."
   ]
  },
  {
   "cell_type": "markdown",
   "metadata": {},
   "source": [
    "## Forming The Matrices ##\n",
    "### Similarity ###\n",
    "The similarity matrix, $A_{sim}$, is designed using the following equations:\n",
    "\\begin{equation}\n",
    "f_i(a, b, \\Delta{x})=ax_i - by_i + \\Delta{x} \\\\\\\n",
    "f_i(a, b, \\Delta{y})=bx_i + ay_i + \\Delta{y}\n",
    "\\end{equation}\n",
    "\n",
    "Thus, our [design matrix](https://www.statlect.com/glossary/design-matrix#:~:text=A%20design%20matrix%20is%20a,each%20column%20to%20a%20characteristic.) requires four parameters: $E, N, x, y$. This results in a matrix with the following shape:\n",
    "\n",
    "\\begin{bmatrix}\n",
    "E_1& -N_1& 1& 0\\\\\\\n",
    "\\vdots& \\vdots& \\vdots& \\vdots\\\\\\\n",
    "E_n& -N_n& 1& 0\\\\\\\n",
    "N_1& E_1&  0& 1\\\\\\\n",
    "\\vdots& \\vdots& \\vdots& \\vdots\\\\\\\n",
    "N_n& E_n& 0& 1\n",
    "\\end{bmatrix}\n",
    "\n",
    "### Affine ###\n",
    "The affine matrix, $A_{aff}$, is designed using the following equations:\n",
    "\n",
    "\\begin{equation}\n",
    "f_i(a_0, a_1, a_2) = a_0 + a_1x_i + a_2y_i \\\\\\\n",
    "f_i(b_0, b_1, b_2) = b_0 + b_1x_i + b_2y_i\n",
    "\\end{equation}\n",
    "\n",
    "This results in a matrix with the following shape:\n",
    "\n",
    "\\begin{bmatrix}\n",
    "1& E_1& N_1& 0& 0& 0 \\\\\\\n",
    "\\vdots& \\vdots& \\vdots& \\vdots& \\vdots& \\vdots\\\\\\\n",
    "1& E_n& N_n& 0& 0& 0 \\\\\\\n",
    "0& 0& 0& 1& E_1& N_1 \\\\\\\n",
    "\\vdots& \\vdots& \\vdots& \\vdots& \\vdots& \\vdots\\\\\\\n",
    "0& 0& 0& 1& E_n& N_n\n",
    "\\end{bmatrix}\n",
    "\n",
    "The $b$ vector is identical for both transforms, and is formed of all the $x$ components of the observations, followed by all the $y$ components of the observations.  \n",
    "The covariance matrix $C_b$ is usually diagonal, but in this case `statsmodels` requires a vector, of identical dimensions to $b$. It is formed of the square of the standard deviation of the $x$ values, for all $x$, followed by the square of the standard deviation of the $y$ values, for all $y$. Statsmodels requires it in the form of $1/C_b$.  It is converted into a diagonal weight matrix, **W**, in order to obtain the quality $(\\sigma)$ of the transformations."
   ]
  },
  {
   "cell_type": "code",
   "execution_count": 2,
   "metadata": {
    "collapsed": false,
    "jupyter": {
     "outputs_hidden": false
    }
   },
   "outputs": [],
   "source": [
    "import pandas as pd\n",
    "import numpy as np\n",
    "import matplotlib.pyplot as plt\n",
    "import statsmodels\n",
    "import statsmodels.formula.api as sm\n",
    "%matplotlib inline\n",
    "%config InlineBackend.figure_format = 'retina'"
   ]
  },
  {
   "cell_type": "markdown",
   "metadata": {},
   "source": [
    "Only execute the cell below if you have $\\LaTeX$ and the appropriate fonts installed."
   ]
  },
  {
   "cell_type": "code",
   "execution_count": 1,
   "metadata": {
    "collapsed": false,
    "jupyter": {
     "outputs_hidden": false
    }
   },
   "outputs": [],
   "source": [
    "from matplotlib import rc\n",
    "# import matplotlib as mpl\n",
    "# mpl.rcParams['figure.dpi'] = 300\n",
    "rc('font', **{'family':'sans-serif',\n",
    "    'sans-serif':['Helvetica'],\n",
    "    'monospace': ['Inconsolata'],\n",
    "    'serif': ['Helvetica']})\n",
    "rc('text', **{'usetex': True})\n",
    "rc('text', **{'latex.preamble': '\\\\usepackage{sfmath}'})"
   ]
  },
  {
   "cell_type": "code",
   "execution_count": 3,
   "metadata": {
    "collapsed": false,
    "jupyter": {
     "outputs_hidden": false
    }
   },
   "outputs": [],
   "source": [
    "# imaged observations\n",
    "coords = pd.read_csv('../data/coordinates.csv', index_col=0)\n",
    "# ground control points\n",
    "ground_control_points = pd.read_csv('../data/ground_control_points.csv')"
   ]
  },
  {
   "cell_type": "markdown",
   "metadata": {},
   "source": [
    "#### Since the design matrices are formed of the easting and northing measurements and various arrangements of one and zero columns, it's easiest to create them by forming dicts which are given as input to the Pandas DataFrame constructor. In order to keep the functions flexible, they are not applied to DataFrames, but take iterables such as lists, tuples or numpy arrays as input"
   ]
  },
  {
   "cell_type": "code",
   "execution_count": 4,
   "metadata": {
    "collapsed": false,
    "jupyter": {
     "outputs_hidden": false
    }
   },
   "outputs": [],
   "source": [
    "def affine_dict(points):\n",
    "    \"\"\"\n",
    "    Return a dict with the correct parameter arrangement for the affine design matrix\n",
    "    Takes an iterable of x, y point tuples as input \n",
    "    \"\"\"\n",
    "    zeros = np.zeros(len(points))\n",
    "    ones = np.ones(len(points))\n",
    "    return {\n",
    "        'a1x': np.concatenate(([point[0] for point in points], zeros)),\n",
    "        'a2y': np.concatenate(([point[1] for point in points], zeros)),\n",
    "        'b1x': np.concatenate((zeros, [point[0] for point in points])),\n",
    "        'b2y': np.concatenate((zeros, [point[1] for point in points])),\n",
    "        'a': np.concatenate((ones, zeros)),\n",
    "        'b': np.concatenate((zeros, ones))\n",
    "    }\n",
    "\n",
    "def similarity_dict(points):\n",
    "    \"\"\"\n",
    "    Return a dict with the correct parameter arrangement for the similarity design matrix\n",
    "    Takes an iterable of x, y point tuples as input\n",
    "    \"\"\"\n",
    "    zeros = np.zeros(len(points))\n",
    "    ones = np.ones(len(points))\n",
    "    return {\n",
    "        'a': np.concatenate(([point[0] for point in points], [point[1] for point in points])),\n",
    "        'b': np.concatenate((np.array([point[1] for point in points]) * -1, [point[0] for point in points])),\n",
    "        'Delta_x': np.concatenate((ones, zeros)),\n",
    "        'Delta_y': np.concatenate((zeros, ones))\n",
    "    }"
   ]
  },
  {
   "cell_type": "markdown",
   "metadata": {},
   "source": [
    "Alternatively, we could form our design matrices manually, by appending DataFrames:\n",
    "```python\n",
    "    dflen = len(ground_control_points)\n",
    "    zeros = np.zeros(dflen)\n",
    "    ones = np.ones(dflen)\n",
    "\n",
    "    # affine transform A matrix\n",
    "    affine_A = pd.DataFrame({\n",
    "        'a': ones,\n",
    "        'a1x': ground_control_points['E'],\n",
    "        'a2y': ground_control_points['N'],\n",
    "        'b': zeros,\n",
    "        'b1x': zeros,\n",
    "        'b2y': zeros,\n",
    "    }).append(pd.DataFrame({\n",
    "        'a': zeros,\n",
    "        'a1x': zeros,\n",
    "        'a2y': zeros,\n",
    "        'b': ones,\n",
    "        'b1x': ground_control_points['E'],\n",
    "        'b2y': ground_control_points['N'],\n",
    "        }), ignore_index=True\n",
    "    )\n",
    "    \n",
    "    # similarity transform A matrix\n",
    "    similarity_A = pd.DataFrame({\n",
    "        'a': ground_control_points['E'],\n",
    "        'b': ground_control_points['N'] * -1,\n",
    "        'Delta_x': ones,\n",
    "        'Delta_y': zeros,\n",
    "    }).append(pd.DataFrame({\n",
    "        'a': ground_control_points['N'],\n",
    "        'b': ground_control_points['E'],\n",
    "        'Delta_x': zeros,\n",
    "        'Delta_y': ones,\n",
    "        }), ignore_index=True\n",
    "    )\n",
    "```"
   ]
  },
  {
   "cell_type": "markdown",
   "metadata": {},
   "source": [
    "## Form Design Matrices"
   ]
  },
  {
   "cell_type": "code",
   "execution_count": 7,
   "metadata": {
    "collapsed": false,
    "jupyter": {
     "outputs_hidden": false
    }
   },
   "outputs": [
    {
     "data": {
      "text/html": [
       "<div>\n",
       "<style scoped>\n",
       "    .dataframe tbody tr th:only-of-type {\n",
       "        vertical-align: middle;\n",
       "    }\n",
       "\n",
       "    .dataframe tbody tr th {\n",
       "        vertical-align: top;\n",
       "    }\n",
       "\n",
       "    .dataframe thead th {\n",
       "        text-align: right;\n",
       "    }\n",
       "</style>\n",
       "<table border=\"1\" class=\"dataframe\">\n",
       "  <thead>\n",
       "    <tr style=\"text-align: right;\">\n",
       "      <th></th>\n",
       "      <th>a1x</th>\n",
       "      <th>a2y</th>\n",
       "      <th>b1x</th>\n",
       "      <th>b2y</th>\n",
       "      <th>a</th>\n",
       "      <th>b</th>\n",
       "    </tr>\n",
       "  </thead>\n",
       "  <tbody>\n",
       "    <tr>\n",
       "      <td>0</td>\n",
       "      <td>501840.7579</td>\n",
       "      <td>185681.5922</td>\n",
       "      <td>0.0</td>\n",
       "      <td>0.0</td>\n",
       "      <td>1.0</td>\n",
       "      <td>0.0</td>\n",
       "    </tr>\n",
       "    <tr>\n",
       "      <td>1</td>\n",
       "      <td>502808.3026</td>\n",
       "      <td>186667.6431</td>\n",
       "      <td>0.0</td>\n",
       "      <td>0.0</td>\n",
       "      <td>1.0</td>\n",
       "      <td>0.0</td>\n",
       "    </tr>\n",
       "    <tr>\n",
       "      <td>2</td>\n",
       "      <td>502509.0600</td>\n",
       "      <td>186961.7100</td>\n",
       "      <td>0.0</td>\n",
       "      <td>0.0</td>\n",
       "      <td>1.0</td>\n",
       "      <td>0.0</td>\n",
       "    </tr>\n",
       "    <tr>\n",
       "      <td>3</td>\n",
       "      <td>502543.4900</td>\n",
       "      <td>185883.5300</td>\n",
       "      <td>0.0</td>\n",
       "      <td>0.0</td>\n",
       "      <td>1.0</td>\n",
       "      <td>0.0</td>\n",
       "    </tr>\n",
       "    <tr>\n",
       "      <td>4</td>\n",
       "      <td>502564.6500</td>\n",
       "      <td>186577.9900</td>\n",
       "      <td>0.0</td>\n",
       "      <td>0.0</td>\n",
       "      <td>1.0</td>\n",
       "      <td>0.0</td>\n",
       "    </tr>\n",
       "  </tbody>\n",
       "</table>\n",
       "</div>"
      ],
      "text/plain": [
       "           a1x          a2y  b1x  b2y    a    b\n",
       "0  501840.7579  185681.5922  0.0  0.0  1.0  0.0\n",
       "1  502808.3026  186667.6431  0.0  0.0  1.0  0.0\n",
       "2  502509.0600  186961.7100  0.0  0.0  1.0  0.0\n",
       "3  502543.4900  185883.5300  0.0  0.0  1.0  0.0\n",
       "4  502564.6500  186577.9900  0.0  0.0  1.0  0.0"
      ]
     },
     "execution_count": 7,
     "metadata": {},
     "output_type": "execute_result"
    }
   ],
   "source": [
    "affine_A = pd.DataFrame(\n",
    "    affine_dict(ground_control_points.values)\n",
    "    )\n",
    "\n",
    "similarity_A = pd.DataFrame(\n",
    "    similarity_dict(ground_control_points.values)\n",
    "    )\n",
    "\n",
    "affine_A.head()"
   ]
  },
  {
   "cell_type": "markdown",
   "metadata": {},
   "source": [
    "## Form b Vector"
   ]
  },
  {
   "cell_type": "code",
   "execution_count": 8,
   "metadata": {
    "collapsed": false,
    "jupyter": {
     "outputs_hidden": false
    }
   },
   "outputs": [
    {
     "data": {
      "text/html": [
       "<div>\n",
       "<style scoped>\n",
       "    .dataframe tbody tr th:only-of-type {\n",
       "        vertical-align: middle;\n",
       "    }\n",
       "\n",
       "    .dataframe tbody tr th {\n",
       "        vertical-align: top;\n",
       "    }\n",
       "\n",
       "    .dataframe thead th {\n",
       "        text-align: right;\n",
       "    }\n",
       "</style>\n",
       "<table border=\"1\" class=\"dataframe\">\n",
       "  <thead>\n",
       "    <tr style=\"text-align: right;\">\n",
       "      <th></th>\n",
       "      <th>coordinates</th>\n",
       "    </tr>\n",
       "  </thead>\n",
       "  <tbody>\n",
       "    <tr>\n",
       "      <td>0</td>\n",
       "      <td>-0.149588</td>\n",
       "    </tr>\n",
       "    <tr>\n",
       "      <td>1</td>\n",
       "      <td>0.117489</td>\n",
       "    </tr>\n",
       "    <tr>\n",
       "      <td>2</td>\n",
       "      <td>0.071546</td>\n",
       "    </tr>\n",
       "    <tr>\n",
       "      <td>3</td>\n",
       "      <td>0.012923</td>\n",
       "    </tr>\n",
       "    <tr>\n",
       "      <td>4</td>\n",
       "      <td>0.059942</td>\n",
       "    </tr>\n",
       "  </tbody>\n",
       "</table>\n",
       "</div>"
      ],
      "text/plain": [
       "   coordinates\n",
       "0    -0.149588\n",
       "1     0.117489\n",
       "2     0.071546\n",
       "3     0.012923\n",
       "4     0.059942"
      ]
     },
     "execution_count": 8,
     "metadata": {},
     "output_type": "execute_result"
    }
   ],
   "source": [
    "b_vector = pd.DataFrame({\n",
    "    'coordinates': pd.concat([\n",
    "        coords['x_coordinates'],\n",
    "        coords['y_coordinates']],\n",
    "        ignore_index=True)\n",
    "    })\n",
    "\n",
    "b_vector.head()"
   ]
  },
  {
   "cell_type": "markdown",
   "metadata": {},
   "source": [
    "## Join design matrix and b vector into single DataFrames, for easier manipulation"
   ]
  },
  {
   "cell_type": "code",
   "execution_count": 9,
   "metadata": {
    "collapsed": false,
    "jupyter": {
     "outputs_hidden": false
    }
   },
   "outputs": [],
   "source": [
    "affine_A = affine_A.join(b_vector)\n",
    "similarity_A = similarity_A.join(b_vector)"
   ]
  },
  {
   "cell_type": "markdown",
   "metadata": {},
   "source": [
    "## Create a covariance vector"
   ]
  },
  {
   "cell_type": "code",
   "execution_count": 12,
   "metadata": {},
   "outputs": [
    {
     "data": {
      "text/plain": [
       "54.0"
      ]
     },
     "execution_count": 12,
     "metadata": {},
     "output_type": "execute_result"
    }
   ],
   "source": [
    "half"
   ]
  },
  {
   "cell_type": "code",
   "execution_count": 13,
   "metadata": {
    "collapsed": false,
    "jupyter": {
     "outputs_hidden": false
    }
   },
   "outputs": [
    {
     "name": "stdout",
     "output_type": "stream",
     "text": [
      "0    0.007911\n",
      "1    0.007911\n",
      "2    0.007911\n",
      "3    0.007911\n",
      "4    0.007911\n",
      "dtype: float64\n",
      "103    0.00751\n",
      "104    0.00751\n",
      "105    0.00751\n",
      "106    0.00751\n",
      "107    0.00751\n",
      "dtype: float64\n"
     ]
    }
   ],
   "source": [
    "# we can safely divide by 2, because we're guaranteed an equal number of x and y coords\n",
    "half = int(len(b_vector) / 2)\n",
    "covariance = pd.Series(\n",
    "    [b_vector['coordinates'][:half].std() ** 2] * half +\n",
    "    [b_vector['coordinates'][half:].std() ** 2] * half\n",
    ")\n",
    "print(covariance.head())\n",
    "print(covariance.tail())"
   ]
  },
  {
   "cell_type": "markdown",
   "metadata": {},
   "source": [
    "## Carry out the regressions"
   ]
  },
  {
   "cell_type": "code",
   "execution_count": 14,
   "metadata": {
    "collapsed": false,
    "jupyter": {
     "outputs_hidden": false
    }
   },
   "outputs": [
    {
     "data": {
      "text/html": [
       "<table class=\"simpletable\">\n",
       "<caption>WLS Regression Results</caption>\n",
       "<tr>\n",
       "  <th>Dep. Variable:</th>       <td>coordinates</td>   <th>  R-squared:         </th> <td>   1.000</td> \n",
       "</tr>\n",
       "<tr>\n",
       "  <th>Model:</th>                   <td>WLS</td>       <th>  Adj. R-squared:    </th> <td>   1.000</td> \n",
       "</tr>\n",
       "<tr>\n",
       "  <th>Method:</th>             <td>Least Squares</td>  <th>  F-statistic:       </th> <td>9.316e+05</td>\n",
       "</tr>\n",
       "<tr>\n",
       "  <th>Date:</th>             <td>Fri, 13 Sep 2019</td> <th>  Prob (F-statistic):</th> <td>6.51e-236</td>\n",
       "</tr>\n",
       "<tr>\n",
       "  <th>Time:</th>                 <td>15:09:22</td>     <th>  Log-Likelihood:    </th> <td>  689.65</td> \n",
       "</tr>\n",
       "<tr>\n",
       "  <th>No. Observations:</th>      <td>   108</td>      <th>  AIC:               </th> <td>  -1367.</td> \n",
       "</tr>\n",
       "<tr>\n",
       "  <th>Df Residuals:</th>          <td>   102</td>      <th>  BIC:               </th> <td>  -1351.</td> \n",
       "</tr>\n",
       "<tr>\n",
       "  <th>Df Model:</th>              <td>     5</td>      <th>                     </th>     <td> </td>    \n",
       "</tr>\n",
       "<tr>\n",
       "  <th>Covariance Type:</th>      <td>nonrobust</td>    <th>                     </th>     <td> </td>    \n",
       "</tr>\n",
       "</table>\n",
       "<table class=\"simpletable\">\n",
       "<tr>\n",
       "      <td></td>         <th>coef</th>     <th>std err</th>      <th>t</th>      <th>P>|t|</th>  <th>[0.025</th>    <th>0.975]</th>  \n",
       "</tr>\n",
       "<tr>\n",
       "  <th>Intercept</th> <td>  -43.4359</td> <td>    0.037</td> <td>-1176.088</td> <td> 0.000</td> <td>  -43.509</td> <td>  -43.363</td>\n",
       "</tr>\n",
       "<tr>\n",
       "  <th>a</th>         <td>  -75.2691</td> <td>    0.059</td> <td>-1279.011</td> <td> 0.000</td> <td>  -75.386</td> <td>  -75.152</td>\n",
       "</tr>\n",
       "<tr>\n",
       "  <th>a1x</th>       <td>    0.0002</td> <td> 1.64e-07</td> <td> 1306.384</td> <td> 0.000</td> <td>    0.000</td> <td>    0.000</td>\n",
       "</tr>\n",
       "<tr>\n",
       "  <th>a2y</th>       <td>  6.12e-05</td> <td> 1.52e-07</td> <td>  402.923</td> <td> 0.000</td> <td> 6.09e-05</td> <td> 6.15e-05</td>\n",
       "</tr>\n",
       "<tr>\n",
       "  <th>b</th>         <td>   31.8332</td> <td>    0.058</td> <td>  549.436</td> <td> 0.000</td> <td>   31.718</td> <td>   31.948</td>\n",
       "</tr>\n",
       "<tr>\n",
       "  <th>b1x</th>       <td>-6.055e-05</td> <td> 1.59e-07</td> <td> -380.059</td> <td> 0.000</td> <td>-6.09e-05</td> <td>-6.02e-05</td>\n",
       "</tr>\n",
       "<tr>\n",
       "  <th>b2y</th>       <td>    0.0002</td> <td> 1.48e-07</td> <td> 1522.644</td> <td> 0.000</td> <td>    0.000</td> <td>    0.000</td>\n",
       "</tr>\n",
       "</table>\n",
       "<table class=\"simpletable\">\n",
       "<tr>\n",
       "  <th>Omnibus:</th>       <td>132.905</td> <th>  Durbin-Watson:     </th> <td>   2.064</td>\n",
       "</tr>\n",
       "<tr>\n",
       "  <th>Prob(Omnibus):</th> <td> 0.000</td>  <th>  Jarque-Bera (JB):  </th> <td>2298.210</td>\n",
       "</tr>\n",
       "<tr>\n",
       "  <th>Skew:</th>          <td>-4.513</td>  <th>  Prob(JB):          </th> <td>    0.00</td>\n",
       "</tr>\n",
       "<tr>\n",
       "  <th>Kurtosis:</th>      <td>23.719</td>  <th>  Cond. No.          </th> <td>1.48e+21</td>\n",
       "</tr>\n",
       "</table><br/><br/>Warnings:<br/>[1] Standard Errors assume that the covariance matrix of the errors is correctly specified.<br/>[2] The smallest eigenvalue is 9.38e-28. This might indicate that there are<br/>strong multicollinearity problems or that the design matrix is singular."
      ],
      "text/plain": [
       "<class 'statsmodels.iolib.summary.Summary'>\n",
       "\"\"\"\n",
       "                            WLS Regression Results                            \n",
       "==============================================================================\n",
       "Dep. Variable:            coordinates   R-squared:                       1.000\n",
       "Model:                            WLS   Adj. R-squared:                  1.000\n",
       "Method:                 Least Squares   F-statistic:                 9.316e+05\n",
       "Date:                Fri, 13 Sep 2019   Prob (F-statistic):          6.51e-236\n",
       "Time:                        15:09:22   Log-Likelihood:                 689.65\n",
       "No. Observations:                 108   AIC:                            -1367.\n",
       "Df Residuals:                     102   BIC:                            -1351.\n",
       "Df Model:                           5                                         \n",
       "Covariance Type:            nonrobust                                         \n",
       "==============================================================================\n",
       "                 coef    std err          t      P>|t|      [0.025      0.975]\n",
       "------------------------------------------------------------------------------\n",
       "Intercept    -43.4359      0.037  -1176.088      0.000     -43.509     -43.363\n",
       "a            -75.2691      0.059  -1279.011      0.000     -75.386     -75.152\n",
       "a1x            0.0002   1.64e-07   1306.384      0.000       0.000       0.000\n",
       "a2y          6.12e-05   1.52e-07    402.923      0.000    6.09e-05    6.15e-05\n",
       "b             31.8332      0.058    549.436      0.000      31.718      31.948\n",
       "b1x        -6.055e-05   1.59e-07   -380.059      0.000   -6.09e-05   -6.02e-05\n",
       "b2y            0.0002   1.48e-07   1522.644      0.000       0.000       0.000\n",
       "==============================================================================\n",
       "Omnibus:                      132.905   Durbin-Watson:                   2.064\n",
       "Prob(Omnibus):                  0.000   Jarque-Bera (JB):             2298.210\n",
       "Skew:                          -4.513   Prob(JB):                         0.00\n",
       "Kurtosis:                      23.719   Cond. No.                     1.48e+21\n",
       "==============================================================================\n",
       "\n",
       "Warnings:\n",
       "[1] Standard Errors assume that the covariance matrix of the errors is correctly specified.\n",
       "[2] The smallest eigenvalue is 9.38e-28. This might indicate that there are\n",
       "strong multicollinearity problems or that the design matrix is singular.\n",
       "\"\"\""
      ]
     },
     "execution_count": 14,
     "metadata": {},
     "output_type": "execute_result"
    }
   ],
   "source": [
    "affine_results = sm.wls(\n",
    "    formula='coordinates ~ a + a1x + a2y + b + b1x + b2y',\n",
    "    data=affine_A,\n",
    "    weights=1 / covariance).fit()\n",
    "affine_results.summary()"
   ]
  },
  {
   "cell_type": "code",
   "execution_count": 15,
   "metadata": {
    "collapsed": false,
    "jupyter": {
     "outputs_hidden": false
    }
   },
   "outputs": [
    {
     "data": {
      "text/html": [
       "<table class=\"simpletable\">\n",
       "<caption>WLS Regression Results</caption>\n",
       "<tr>\n",
       "  <th>Dep. Variable:</th>       <td>coordinates</td>   <th>  R-squared:         </th> <td>   0.999</td> \n",
       "</tr>\n",
       "<tr>\n",
       "  <th>Model:</th>                   <td>WLS</td>       <th>  Adj. R-squared:    </th> <td>   0.999</td> \n",
       "</tr>\n",
       "<tr>\n",
       "  <th>Method:</th>             <td>Least Squares</td>  <th>  F-statistic:       </th> <td>5.503e+04</td>\n",
       "</tr>\n",
       "<tr>\n",
       "  <th>Date:</th>             <td>Fri, 13 Sep 2019</td> <th>  Prob (F-statistic):</th> <td>2.91e-166</td>\n",
       "</tr>\n",
       "<tr>\n",
       "  <th>Time:</th>                 <td>15:09:46</td>     <th>  Log-Likelihood:    </th> <td>  508.28</td> \n",
       "</tr>\n",
       "<tr>\n",
       "  <th>No. Observations:</th>      <td>   108</td>      <th>  AIC:               </th> <td>  -1009.</td> \n",
       "</tr>\n",
       "<tr>\n",
       "  <th>Df Residuals:</th>          <td>   104</td>      <th>  BIC:               </th> <td>  -997.8</td> \n",
       "</tr>\n",
       "<tr>\n",
       "  <th>Df Model:</th>              <td>     3</td>      <th>                     </th>     <td> </td>    \n",
       "</tr>\n",
       "<tr>\n",
       "  <th>Covariance Type:</th>      <td>nonrobust</td>    <th>                     </th>     <td> </td>    \n",
       "</tr>\n",
       "</table>\n",
       "<table class=\"simpletable\">\n",
       "<tr>\n",
       "      <td></td>         <th>coef</th>     <th>std err</th>      <th>t</th>      <th>P>|t|</th>  <th>[0.025</th>    <th>0.975]</th>  \n",
       "</tr>\n",
       "<tr>\n",
       "  <th>Intercept</th> <td>  -44.2930</td> <td>    0.141</td> <td> -313.207</td> <td> 0.000</td> <td>  -44.573</td> <td>  -44.013</td>\n",
       "</tr>\n",
       "<tr>\n",
       "  <th>a</th>         <td>    0.0002</td> <td> 5.61e-07</td> <td>  392.234</td> <td> 0.000</td> <td>    0.000</td> <td>    0.000</td>\n",
       "</tr>\n",
       "<tr>\n",
       "  <th>b</th>         <td>-5.932e-05</td> <td> 5.62e-07</td> <td> -105.497</td> <td> 0.000</td> <td>-6.04e-05</td> <td>-5.82e-05</td>\n",
       "</tr>\n",
       "<tr>\n",
       "  <th>Delta_x</th>   <td>  -77.3361</td> <td>    0.225</td> <td> -343.520</td> <td> 0.000</td> <td>  -77.783</td> <td>  -76.890</td>\n",
       "</tr>\n",
       "<tr>\n",
       "  <th>Delta_y</th>   <td>   33.0430</td> <td>    0.225</td> <td>  147.046</td> <td> 0.000</td> <td>   32.597</td> <td>   33.489</td>\n",
       "</tr>\n",
       "</table>\n",
       "<table class=\"simpletable\">\n",
       "<tr>\n",
       "  <th>Omnibus:</th>       <td> 3.832</td> <th>  Durbin-Watson:     </th> <td>   2.442</td>\n",
       "</tr>\n",
       "<tr>\n",
       "  <th>Prob(Omnibus):</th> <td> 0.147</td> <th>  Jarque-Bera (JB):  </th> <td>   2.145</td>\n",
       "</tr>\n",
       "<tr>\n",
       "  <th>Skew:</th>          <td>-0.016</td> <th>  Prob(JB):          </th> <td>   0.342</td>\n",
       "</tr>\n",
       "<tr>\n",
       "  <th>Kurtosis:</th>      <td> 2.310</td> <th>  Cond. No.          </th> <td>4.79e+21</td>\n",
       "</tr>\n",
       "</table><br/><br/>Warnings:<br/>[1] Standard Errors assume that the covariance matrix of the errors is correctly specified.<br/>[2] The smallest eigenvalue is 8.99e-29. This might indicate that there are<br/>strong multicollinearity problems or that the design matrix is singular."
      ],
      "text/plain": [
       "<class 'statsmodels.iolib.summary.Summary'>\n",
       "\"\"\"\n",
       "                            WLS Regression Results                            \n",
       "==============================================================================\n",
       "Dep. Variable:            coordinates   R-squared:                       0.999\n",
       "Model:                            WLS   Adj. R-squared:                  0.999\n",
       "Method:                 Least Squares   F-statistic:                 5.503e+04\n",
       "Date:                Fri, 13 Sep 2019   Prob (F-statistic):          2.91e-166\n",
       "Time:                        15:09:46   Log-Likelihood:                 508.28\n",
       "No. Observations:                 108   AIC:                            -1009.\n",
       "Df Residuals:                     104   BIC:                            -997.8\n",
       "Df Model:                           3                                         \n",
       "Covariance Type:            nonrobust                                         \n",
       "==============================================================================\n",
       "                 coef    std err          t      P>|t|      [0.025      0.975]\n",
       "------------------------------------------------------------------------------\n",
       "Intercept    -44.2930      0.141   -313.207      0.000     -44.573     -44.013\n",
       "a              0.0002   5.61e-07    392.234      0.000       0.000       0.000\n",
       "b          -5.932e-05   5.62e-07   -105.497      0.000   -6.04e-05   -5.82e-05\n",
       "Delta_x      -77.3361      0.225   -343.520      0.000     -77.783     -76.890\n",
       "Delta_y       33.0430      0.225    147.046      0.000      32.597      33.489\n",
       "==============================================================================\n",
       "Omnibus:                        3.832   Durbin-Watson:                   2.442\n",
       "Prob(Omnibus):                  0.147   Jarque-Bera (JB):                2.145\n",
       "Skew:                          -0.016   Prob(JB):                        0.342\n",
       "Kurtosis:                       2.310   Cond. No.                     4.79e+21\n",
       "==============================================================================\n",
       "\n",
       "Warnings:\n",
       "[1] Standard Errors assume that the covariance matrix of the errors is correctly specified.\n",
       "[2] The smallest eigenvalue is 8.99e-29. This might indicate that there are\n",
       "strong multicollinearity problems or that the design matrix is singular.\n",
       "\"\"\""
      ]
     },
     "execution_count": 15,
     "metadata": {},
     "output_type": "execute_result"
    }
   ],
   "source": [
    "similarity_results = sm.wls(\n",
    "    formula='coordinates ~ a + b + Delta_x + Delta_y',\n",
    "    data=similarity_A,\n",
    "    weights=1 / covariance).fit()\n",
    "similarity_results.summary()"
   ]
  },
  {
   "cell_type": "markdown",
   "metadata": {},
   "source": [
    "## Out-of-band Prediction"
   ]
  },
  {
   "cell_type": "code",
   "execution_count": 16,
   "metadata": {
    "collapsed": false,
    "jupyter": {
     "outputs_hidden": false
    }
   },
   "outputs": [],
   "source": [
    "def random_point(df):\n",
    "    \"\"\" return a random point from the uniform distribution using min & max from the df \"\"\"\n",
    "    x = np.random.uniform(\n",
    "        df['E'].min(), df['E'].max())\n",
    "    y = np.random.uniform(\n",
    "        df['N'].min(), df['N'].max())\n",
    "    return x, y"
   ]
  },
  {
   "cell_type": "code",
   "execution_count": 18,
   "metadata": {
    "collapsed": false,
    "jupyter": {
     "outputs_hidden": false
    }
   },
   "outputs": [],
   "source": [
    "# get 10 random points\n",
    "rpoints = [random_point(ground_control_points) for x in range(10)]"
   ]
  },
  {
   "cell_type": "code",
   "execution_count": 19,
   "metadata": {
    "collapsed": false,
    "jupyter": {
     "outputs_hidden": false
    }
   },
   "outputs": [],
   "source": [
    "# predict transformed coordinates\n",
    "predicted_affine = list(affine_results.predict(exog=affine_dict(rpoints)))\n",
    "predicted_similarity = list(similarity_results.predict(exog=similarity_dict(rpoints)))"
   ]
  },
  {
   "cell_type": "markdown",
   "metadata": {},
   "source": [
    "## Plot results"
   ]
  },
  {
   "cell_type": "code",
   "execution_count": 33,
   "metadata": {
    "collapsed": false,
    "jupyter": {
     "outputs_hidden": false
    }
   },
   "outputs": [
    {
     "data": {
      "text/plain": [
       "<Figure size 432x288 with 0 Axes>"
      ]
     },
     "metadata": {},
     "output_type": "display_data"
    },
    {
     "data": {
      "image/png": "[encoded data removed]",
      "text/plain": [
       "<Figure size 524.16x524.16 with 1 Axes>"
      ]
     },
     "metadata": {
      "image/png": {
       "height": 451,
       "width": 516
      },
      "needs_background": "light"
     },
     "output_type": "display_data"
    }
   ],
   "source": [
    "plt.clf()\n",
    "fig = plt.figure(figsize=(7.28, 7.28))\n",
    "ax = fig.add_subplot(111, aspect='equal', facecolor='none')\n",
    "orig = plt.scatter(\n",
    "    coords['x_coordinates'],\n",
    "    coords['y_coordinates'],\n",
    "    color='#33CCFF',\n",
    "    edgecolor='#333333',\n",
    "    marker='o',\n",
    "    lw=1,\n",
    "    s=80,\n",
    "    alpha=1.0)\n",
    "# the predict() method generates points used to plot updated observations\n",
    "aff = plt.scatter(\n",
    "    affine_results.predict()[:half],\n",
    "    affine_results.predict()[half:],\n",
    "    marker='o',\n",
    "    color='#006600',\n",
    "    edgecolor='#333333',\n",
    "    lw=1,\n",
    "    s=25,\n",
    "    alpha=0.75)\n",
    "sim = plt.scatter(\n",
    "    similarity_results.predict()[:half],\n",
    "    similarity_results.predict()[half:],\n",
    "    marker='o',\n",
    "    color='#CC00CC',\n",
    "    edgecolor='#333333',\n",
    "    lw=1,\n",
    "    s=25,\n",
    "    alpha=0.75)\n",
    "\n",
    "pred_aff = plt.scatter(\n",
    "    predicted_affine[:len(rpoints)],\n",
    "    predicted_affine[len(rpoints):],\n",
    "    lw=.8,\n",
    "    s=25,\n",
    "    color='none',\n",
    "    edgecolor='#006600',\n",
    "    hatch='......',\n",
    "    alpha=1.)\n",
    "\n",
    "pred_sim = plt.scatter(\n",
    "    predicted_similarity[:len(rpoints)],\n",
    "    predicted_similarity[len(rpoints):],\n",
    "    lw=.8,\n",
    "    s=25,\n",
    "    color='none',\n",
    "    edgecolor='#CC00CC',\n",
    "    hatch='......',\n",
    "    alpha=1.) \n",
    "\n",
    "ax.set_xlabel('x Coordinates')\n",
    "ax.set_ylabel('y Coordinates')\n",
    "plt.title(\"Imaged Points and Transformations (WLS)\")\n",
    "leg = plt.legend(\n",
    "    (orig, aff, sim, pred_aff, pred_sim),\n",
    "    ('Original observations',\n",
    "    r'Affine transform ($\\sigma$: %0.4f)' % np.sqrt(affine_results.mse_resid),\n",
    "    r'Similarity transform ($\\sigma$: %0.4f)' % np.sqrt(similarity_results.scale),\n",
    "    r'Predicted affine transform',\n",
    "    r'Predicted similarity transform'),\n",
    "    loc='upper left',\n",
    "    scatterpoints=1,\n",
    "    fontsize=9)\n",
    "leg.get_frame().set_alpha(0.5)\n",
    "ax.spines['top'].set_visible(False)\n",
    "ax.spines['right'].set_visible(False)\n",
    "plt.tight_layout()\n",
    "ax.grid(False)\n",
    "plt.savefig('../WLS.png', format=\"png\", bbox_inches='tight', alpha=True, transparent=True, dpi=300)"
   ]
  },
  {
   "cell_type": "markdown",
   "metadata": {},
   "source": [
    "## Conclusion"
   ]
  },
  {
   "cell_type": "markdown",
   "metadata": {},
   "source": [
    "It's clear from the sigma-nought values and by visual inspection of the plot above that the affine transform is the more accurate model."
   ]
  },
  {
   "cell_type": "markdown",
   "metadata": {},
   "source": [
    "# Manually Calculate Out-of-band Values"
   ]
  },
  {
   "cell_type": "markdown",
   "metadata": {},
   "source": [
    "Using statsmodels to predict out-of-band values is useful, but in certain cases we may wish to calculate them 'manually'; that is, by using a transformation matrix to transform given eastings and northings. The parameters returned by our `fit()` method allow us to accomplish this, once we've arranged our input points in the correct shape.\n",
    "\n",
    "The transformation matrix for the affine transform is as follows:\n",
    "\n",
    "\\begin{align}\n",
    "\\begin{bmatrix}\n",
    "    x'& \\dots& x'_{n}\\\\\\\n",
    "    y'& \\dots& y'_{n}\\\\\\\n",
    "    1& \\dots& 1_{n}\n",
    "\\end{bmatrix}\n",
    "=\n",
    "\\begin{bmatrix}\n",
    "    a1x& a2y& a&\\\\\\\n",
    "    b1x& b2y& b&\\\\\\\n",
    "    0& 0& 1\n",
    "\\end{bmatrix}\n",
    "\\begin{bmatrix}\n",
    "    x& \\dots& x_{n}\\\\\\\n",
    "    y& \\dots& y_{n}\\\\\\\n",
    "    1& \\dots& 1_{n}\n",
    "\\end{bmatrix}\n",
    "\\end{align}\n",
    "\n",
    "([Goshtasby, A.A., 2012. Image Registration: Principles, Tools and Methods. p348]((https://books.google.co.uk/books?id=VthiwQOT6t4C&pg=PA347&lpg=PA347&dq=affine+transform+a+a1x+a2y&source=bl&ots=8WOI4xglcn&sig=iQ3VpSD7xzJ6XIa7ZWhgFm-Izto&hl=en&sa=X&ei=oseOVKbsJofD7gaC6IDgDQ&ved=0CD4Q6AEwBg#v=onepage&q=affine%20transform%20a%20a1x%20a2y&f=false)))\n",
    "\n",
    "\n",
    "To which we add the intercept we've calculated."
   ]
  },
  {
   "cell_type": "code",
   "execution_count": 25,
   "metadata": {
    "collapsed": false,
    "jupyter": {
     "outputs_hidden": false
    }
   },
   "outputs": [],
   "source": [
    "def affine_oob(params, points):\n",
    "    \"\"\"\n",
    "    Calculate out-of-band points using least-squares params\n",
    "    inputs:\n",
    "        Array of estimated params (intercept, a, a1x a2y, b, b1x, b2y)\n",
    "        List or array of point tuples\n",
    "    returns list of affine-transformed point tuples\n",
    "    \"\"\"\n",
    "    p = params.params\n",
    "    # form affine matrix\n",
    "    tmatrix = np.vstack([\n",
    "        np.array([p[2], p[3], p[1]]),\n",
    "        np.array([p[5], p[6], p[4]]),\n",
    "        np.array([0, 0, 1])\n",
    "    ])\n",
    "    # form param matrix\n",
    "    orig = np.vstack([(point[0], point[1], 1) for point in points]).T\n",
    "    dot_result = np.dot(tmatrix, orig)\n",
    "    # add intercept\n",
    "    with_intercept = [dot_result[0] + p[0], dot_result[1] + p[0]]\n",
    "    return list(zip(with_intercept[0], with_intercept[1]))"
   ]
  },
  {
   "cell_type": "code",
   "execution_count": 26,
   "metadata": {
    "collapsed": false,
    "jupyter": {
     "outputs_hidden": false
    }
   },
   "outputs": [
    {
     "data": {
      "text/plain": [
       "(-0.10967524246817106, -0.06518468033489455)"
      ]
     },
     "execution_count": 26,
     "metadata": {},
     "output_type": "execute_result"
    }
   ],
   "source": [
    "# second result from statsmodels prediction\n",
    "predicted_affine[1], predicted_affine[11] "
   ]
  },
  {
   "cell_type": "code",
   "execution_count": 27,
   "metadata": {
    "collapsed": false,
    "jupyter": {
     "outputs_hidden": false
    }
   },
   "outputs": [
    {
     "data": {
      "text/plain": [
       "(-0.10967524246817106, -0.06518468033489455)"
      ]
     },
     "execution_count": 27,
     "metadata": {},
     "output_type": "execute_result"
    }
   ],
   "source": [
    "res = affine_oob(affine_results, rpoints)\n",
    "# second manually-calculated point\n",
    "res[1]"
   ]
  },
  {
   "cell_type": "code",
   "execution_count": null,
   "metadata": {},
   "outputs": [],
   "source": []
  }
 ],
 "metadata": {
  "kernelspec": {
   "display_name": "Python 3 (ipykernel)",
   "language": "python",
   "name": "python3"
  },
  "language_info": {
   "codemirror_mode": {
    "name": "ipython",
    "version": 3
   },
   "file_extension": ".py",
   "mimetype": "text/x-python",
   "name": "python",
   "nbconvert_exporter": "python",
   "pygments_lexer": "ipython3",
   "version": "3.9.9"
  }
 },
 "nbformat": 4,
 "nbformat_minor": 4
}
