{
 "metadata": {
  "name": "ordinary_least_squares"
 },
 "nbformat": 3,
 "nbformat_minor": 0,
 "worksheets": [
  {
   "cells": [
    {
     "cell_type": "code",
     "collapsed": false,
     "input": [
      "import pandas as pd\n",
      "import numpy as np\n",
      "import matplotlib.pyplot as plt\n",
      "import statsmodels.api as sm\n",
      "\n",
      "year_distance = pd.read_pickle(\"../data/year_distance.pickle\")\n",
      "year_distance['Intercept'] = np.ones(10)"
     ],
     "language": "python",
     "metadata": {},
     "outputs": [],
     "prompt_number": 14
    },
    {
     "cell_type": "code",
     "collapsed": false,
     "input": [
      "fit = sm.OLS(year_distance['Distance'], year_distance[['Intercept', 'Year']]).fit()\n",
      "fit.summary()"
     ],
     "language": "python",
     "metadata": {},
     "outputs": [
      {
       "html": [
        "<table class=\"simpletable\">\n",
        "<caption>OLS Regression Results</caption>\n",
        "<tr>\n",
        "  <th>Dep. Variable:</th>        <td>Distance</td>     <th>  R-squared:         </th> <td>   0.988</td>\n",
        "</tr>\n",
        "<tr>\n",
        "  <th>Model:</th>                   <td>OLS</td>       <th>  Adj. R-squared:    </th> <td>   0.987</td>\n",
        "</tr>\n",
        "<tr>\n",
        "  <th>Method:</th>             <td>Least Squares</td>  <th>  F-statistic:       </th> <td>   682.9</td>\n",
        "</tr>\n",
        "<tr>\n",
        "  <th>Date:</th>             <td>Tue, 13 Aug 2013</td> <th>  Prob (F-statistic):</th> <td>4.94e-09</td>\n",
        "</tr>\n",
        "<tr>\n",
        "  <th>Time:</th>                 <td>18:18:11</td>     <th>  Log-Likelihood:    </th> <td>  26.417</td>\n",
        "</tr>\n",
        "<tr>\n",
        "  <th>No. Observations:</th>      <td>    10</td>      <th>  AIC:               </th> <td>  -48.83</td>\n",
        "</tr>\n",
        "<tr>\n",
        "  <th>Df Residuals:</th>          <td>     8</td>      <th>  BIC:               </th> <td>  -48.23</td>\n",
        "</tr>\n",
        "<tr>\n",
        "  <th>Df Model:</th>              <td>     1</td>      <th>                     </th>     <td> </td>   \n",
        "</tr>\n",
        "</table>\n",
        "<table class=\"simpletable\">\n",
        "<tr>\n",
        "      <td></td>         <th>coef</th>     <th>std err</th>      <th>t</th>      <th>P>|t|</th> <th>[95.0% Conf. Int.]</th> \n",
        "</tr>\n",
        "<tr>\n",
        "  <th>Intercept</th> <td> 1.319e+04</td> <td>    4.245</td> <td> 3106.868</td> <td> 0.000</td> <td> 1.32e+04  1.32e+04</td>\n",
        "</tr>\n",
        "<tr>\n",
        "  <th>Year</th>      <td>    0.0554</td> <td>    0.002</td> <td>   26.132</td> <td> 0.000</td> <td>    0.051     0.060</td>\n",
        "</tr>\n",
        "</table>\n",
        "<table class=\"simpletable\">\n",
        "<tr>\n",
        "  <th>Omnibus:</th>       <td> 0.524</td> <th>  Durbin-Watson:     </th> <td>   2.154</td>\n",
        "</tr>\n",
        "<tr>\n",
        "  <th>Prob(Omnibus):</th> <td> 0.769</td> <th>  Jarque-Bera (JB):  </th> <td>   0.265</td>\n",
        "</tr>\n",
        "<tr>\n",
        "  <th>Skew:</th>          <td>-0.343</td> <th>  Prob(JB):          </th> <td>   0.876</td>\n",
        "</tr>\n",
        "<tr>\n",
        "  <th>Kurtosis:</th>      <td> 2.593</td> <th>  Cond. No.          </th> <td>1.39e+06</td>\n",
        "</tr>\n",
        "</table>"
       ],
       "output_type": "pyout",
       "prompt_number": 9,
       "text": [
        "<class 'statsmodels.iolib.summary.Summary'>\n",
        "\"\"\"\n",
        "                            OLS Regression Results                            \n",
        "==============================================================================\n",
        "Dep. Variable:               Distance   R-squared:                       0.988\n",
        "Model:                            OLS   Adj. R-squared:                  0.987\n",
        "Method:                 Least Squares   F-statistic:                     682.9\n",
        "Date:                Tue, 13 Aug 2013   Prob (F-statistic):           4.94e-09\n",
        "Time:                        18:18:11   Log-Likelihood:                 26.417\n",
        "No. Observations:                  10   AIC:                            -48.83\n",
        "Df Residuals:                       8   BIC:                            -48.23\n",
        "Df Model:                           1                                         \n",
        "==============================================================================\n",
        "                 coef    std err          t      P>|t|      [95.0% Conf. Int.]\n",
        "------------------------------------------------------------------------------\n",
        "Intercept   1.319e+04      4.245   3106.868      0.000      1.32e+04  1.32e+04\n",
        "Year           0.0554      0.002     26.132      0.000         0.051     0.060\n",
        "==============================================================================\n",
        "Omnibus:                        0.524   Durbin-Watson:                   2.154\n",
        "Prob(Omnibus):                  0.769   Jarque-Bera (JB):                0.265\n",
        "Skew:                          -0.343   Prob(JB):                        0.876\n",
        "Kurtosis:                       2.593   Cond. No.                     1.39e+06\n",
        "==============================================================================\n",
        "\n",
        "Warnings:\n",
        "[1] The condition number is large, 1.39e+06. This might indicate that there are\n",
        "strong multicollinearity or other numerical problems.\n",
        "\"\"\""
       ]
      }
     ],
     "prompt_number": 9
    },
    {
     "cell_type": "code",
     "collapsed": false,
     "input": [
      "fit.params"
     ],
     "language": "python",
     "metadata": {},
     "outputs": [
      {
       "output_type": "pyout",
       "prompt_number": 10,
       "text": [
        "Intercept    13187.752806\n",
        "Year             0.055448\n",
        "dtype: float64"
       ]
      }
     ],
     "prompt_number": 10
    },
    {
     "cell_type": "code",
     "collapsed": false,
     "input": [
      "fit.resid"
     ],
     "language": "python",
     "metadata": {},
     "outputs": [
      {
       "output_type": "pyout",
       "prompt_number": 11,
       "text": [
        "0   -0.034982\n",
        "1    0.022570\n",
        "2   -0.002879\n",
        "3    0.025673\n",
        "4    0.007224\n",
        "5   -0.003224\n",
        "6   -0.015673\n",
        "7    0.011879\n",
        "8    0.000430\n",
        "9   -0.011018\n",
        "dtype: float64"
       ]
      }
     ],
     "prompt_number": 11
    },
    {
     "cell_type": "code",
     "collapsed": false,
     "input": [
      "year_distance['residuals'] = pd.Series(list(fit.resid))\n",
      "year_distance['after_ls'] = year_distance['Distance'] - year_distance['residuals']"
     ],
     "language": "python",
     "metadata": {},
     "outputs": [],
     "prompt_number": 12
    },
    {
     "cell_type": "code",
     "collapsed": false,
     "input": [
      "fig = matplotlib.pyplot.gcf()\n",
      "# this will save as 722px (max width for a Github README) when dpi is set to 100\n",
      "fig.set_size_inches(7.22, 5.25)\n",
      "orig = plt.scatter(\n",
      "    year_distance['Year'],\n",
      "    year_distance['Distance'],\n",
      "    color='#006600',\n",
      "    edgecolor='#333333',\n",
      "    marker='o',\n",
      "    lw=1,\n",
      "    alpha=0.75)\n",
      "# we need the comma here: http://stackoverflow.com/questions/11983024/matplotlib-legends-not-working\n",
      "fitted, = plt.plot(\n",
      "    year_distance['Year'],\n",
      "    year_distance['after_ls'],\n",
      "    color='#CC00CC',)\n",
      "# let's predict some data\n",
      "years = [1995, 1998.5, 2001.5, 2004.5]\n",
      "predicted = fit.predict(\n",
      "    pd.DataFrame({\n",
      "        'Intercept': np.ones(len(years)),\n",
      "        'Years': years}))\n",
      "pred = plt.scatter(\n",
      "    years,\n",
      "    predicted,\n",
      "    color='#33CCFF',\n",
      "    edgecolor='#333333',\n",
      "    marker='o',\n",
      "    lw=1,\n",
      "    alpha=1.0)          \n",
      "leg = plt.legend(\n",
      "    (orig, fitted, pred),\n",
      "    ('Measurements', 'Best fit', 'Predicted points'),\n",
      "    loc='upper left',\n",
      "    scatterpoints=1,\n",
      "    fontsize=8)\n",
      "plt.title('Distance Measured Each Year')\n",
      "leg.get_frame().set_alpha(0.5)\n",
      "plt.tight_layout()\n",
      "plt.savefig('../OLS.png', dpi=100, alpha=True)"
     ],
     "language": "python",
     "metadata": {},
     "outputs": [
      {
       "output_type": "display_data",
       "png": "[encoded data removed]"
      }
     ],
     "prompt_number": 33
    }
   ],
   "metadata": {}
  }
 ]
}