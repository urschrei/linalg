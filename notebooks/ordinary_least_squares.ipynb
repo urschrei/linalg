{
 "cells": [
  {
   "cell_type": "markdown",
   "metadata": {},
   "source": [
    "# Introduction\n",
    "Consider distances measured each year. Each measurement will have a certain amount of error in it.\n",
    "This error ($\\Delta y$) is the discrepancy between the measured value, and the value of $y$ given by the straight-line formula $y=mx+b$:    \n",
    "$y_{i}+\\Delta y=a+bx_{i}$  \n",
    "\n",
    "When discussing least squares, this difference is more commonly referred to as the **residual**, and denoted by the letter $v$:  \n",
    "$y_{i}+v_{i}=a+bx_{i}$  \n",
    "\n",
    "The aim is to make these residuals as small as possible by finding the values of $a$ and $b$ that achieve this."
   ]
  },
  {
   "cell_type": "markdown",
   "metadata": {},
   "source": [
    "Formally: the sum of the squares of the residuals must be a minimum:  \n",
    "\n",
    "$\\sum{v^2_{i}}\\Rightarrow min$\n",
    "\n",
    "Thus, $\\hat{a}+\\hat{b}x_{i}=y_{i}+\\hat{v_{i}}$, where the 'hats' denote the *least-squares estimates* of the parameters $a,b$ and the residuals $v$.  \n",
    "\n",
    "We can calculate these values by expressing our known data in matrix form:"
   ]
  },
  {
   "cell_type": "markdown",
   "metadata": {},
   "source": [
    "### General form ###\n",
    "$Ax=b+v$  \n",
    "\n",
    "### Matrix form ###\n",
    "\\begin{align}\n",
    "\\begin{bmatrix}\n",
    "    1& x_1\\\\\\\n",
    "    1& x_2\\\\\\\n",
    "    \\vdots& \\vdots\\\\\\\n",
    "    1& x_m\n",
    "\\end{bmatrix}\n",
    "\\begin{bmatrix}\n",
    "    a\\\\\\\n",
    "    b\n",
    "\\end{bmatrix}\n",
    "=\n",
    "\\begin{bmatrix}\n",
    "    y_1\\\\\\\n",
    "    y_2\\\\\\\n",
    "    \\vdots\\\\\\\n",
    "    y_m\n",
    "\\end{bmatrix}\n",
    "\\begin{bmatrix}\n",
    "    v_1\\\\\\\n",
    "    v_2\\\\\\\n",
    "    \\vdots\\\\\\\n",
    "    v_m\n",
    "\\end{bmatrix}\n",
    "\\end{align}  \n",
    "\n",
    "### Applied to the data ###\n",
    "$a+bY = D$, where $Y$ is the year, and $D$ is the measured distance.  \n",
    "$a+1996b = 13298.393$  \n",
    "Etc. \n",
    "\n",
    "\\begin{align}\n",
    "    \\begin{bmatrix}\n",
    "        1& 1996\\\\\\\n",
    "        1& 1997\\\\\\\n",
    "        1& 1998\\\\\\\n",
    "        \\vdots& \\vdots\n",
    "    \\end{bmatrix}\n",
    "    \\begin{bmatrix}\n",
    "        a\\\\\\\n",
    "        b\n",
    "    \\end{bmatrix}\n",
    "    =\n",
    "    \\begin{bmatrix}\n",
    "        13289.393\\\\\\\n",
    "        13298.506\\\\\\\n",
    "        13298.536\\\\\\\n",
    "        \\vdots\n",
    "    \\end{bmatrix}\n",
    "    \\begin{bmatrix}\n",
    "        v_1\\\\\\\n",
    "        v_2\\\\\\\n",
    "        v_3\\\\\\\n",
    "        \\vdots\n",
    "    \\end{bmatrix}\\\n",
    "    &\\updownarrow \\text{10 rows, one for each year / distance measurement}\\\\\n",
    "\\end{align}  \n",
    "\n",
    "The four matrices above represent $A, x, b$, and $v$, respectively.  \n",
    "$x$ is the vector whose values for $a$ and $b$ (in this case) are to be found.  \n",
    "Note the slope constant (1) in the $A$ matrix. If we were manually multiplying the matrices, we would have to include this, but `patsy` assumes we wish to include it, so there's no need.\n",
    "\n",
    "---\n",
    "### The solution ### \n",
    "$A^TAx=A^Tb$  \n",
    "$x=(A^TA)^{-1}A^Tb$ (the inverse of $A$ transpose x $A$, multiplied by $A$ transpose x $b$.  \n",
    "The result, $x$, is a column vector containing values for $a,b$"
   ]
  },
  {
   "cell_type": "code",
   "execution_count": 1,
   "metadata": {
    "collapsed": false
   },
   "outputs": [],
   "source": [
    "import pandas as pd\n",
    "import numpy as np\n",
    "import matplotlib.pyplot as plt\n",
    "import statsmodels.formula.api as sm\n",
    "from statsmodels.stats.outliers_influence import summary_table\n",
    "%matplotlib inline"
   ]
  },
  {
   "cell_type": "code",
   "execution_count": 2,
   "metadata": {
    "collapsed": false
   },
   "outputs": [],
   "source": [
    "from matplotlib import rc\n",
    "rc('font', **{'family':'sans-serif',\n",
    "    'sans-serif':['Helvetica'],\n",
    "    'monospace': ['Inconsolata'],\n",
    "    'serif': ['Helvetica']})\n",
    "rc('text', **{'usetex': True})\n",
    "rc('text', **{'latex.preamble': '\\usepackage{sfmath}'})"
   ]
  },
  {
   "cell_type": "code",
   "execution_count": 3,
   "metadata": {
    "collapsed": false
   },
   "outputs": [
    {
     "data": {
      "text/html": [
       "<div style=\"max-height:1000px;max-width:1500px;overflow:auto;\">\n",
       "<table border=\"1\" class=\"dataframe\">\n",
       "  <thead>\n",
       "    <tr style=\"text-align: right;\">\n",
       "      <th></th>\n",
       "      <th>index</th>\n",
       "      <th>Year</th>\n",
       "      <th>Distance</th>\n",
       "    </tr>\n",
       "  </thead>\n",
       "  <tbody>\n",
       "    <tr>\n",
       "      <th>0</th>\n",
       "      <td> 0</td>\n",
       "      <td> 1996</td>\n",
       "      <td> 13298.393</td>\n",
       "    </tr>\n",
       "    <tr>\n",
       "      <th>1</th>\n",
       "      <td> 1</td>\n",
       "      <td> 1997</td>\n",
       "      <td> 13298.506</td>\n",
       "    </tr>\n",
       "    <tr>\n",
       "      <th>2</th>\n",
       "      <td> 2</td>\n",
       "      <td> 1998</td>\n",
       "      <td> 13298.536</td>\n",
       "    </tr>\n",
       "    <tr>\n",
       "      <th>3</th>\n",
       "      <td> 3</td>\n",
       "      <td> 1999</td>\n",
       "      <td> 13298.620</td>\n",
       "    </tr>\n",
       "    <tr>\n",
       "      <th>4</th>\n",
       "      <td> 4</td>\n",
       "      <td> 2000</td>\n",
       "      <td> 13298.657</td>\n",
       "    </tr>\n",
       "    <tr>\n",
       "      <th>5</th>\n",
       "      <td> 5</td>\n",
       "      <td> 2001</td>\n",
       "      <td> 13298.702</td>\n",
       "    </tr>\n",
       "    <tr>\n",
       "      <th>6</th>\n",
       "      <td> 6</td>\n",
       "      <td> 2002</td>\n",
       "      <td> 13298.745</td>\n",
       "    </tr>\n",
       "    <tr>\n",
       "      <th>7</th>\n",
       "      <td> 7</td>\n",
       "      <td> 2003</td>\n",
       "      <td> 13298.828</td>\n",
       "    </tr>\n",
       "    <tr>\n",
       "      <th>8</th>\n",
       "      <td> 8</td>\n",
       "      <td> 2004</td>\n",
       "      <td> 13298.872</td>\n",
       "    </tr>\n",
       "    <tr>\n",
       "      <th>9</th>\n",
       "      <td> 9</td>\n",
       "      <td> 2005</td>\n",
       "      <td> 13298.916</td>\n",
       "    </tr>\n",
       "  </tbody>\n",
       "</table>\n",
       "</div>"
      ],
      "text/plain": [
       "   index  Year   Distance\n",
       "0      0  1996  13298.393\n",
       "1      1  1997  13298.506\n",
       "2      2  1998  13298.536\n",
       "3      3  1999  13298.620\n",
       "4      4  2000  13298.657\n",
       "5      5  2001  13298.702\n",
       "6      6  2002  13298.745\n",
       "7      7  2003  13298.828\n",
       "8      8  2004  13298.872\n",
       "9      9  2005  13298.916"
      ]
     },
     "execution_count": 3,
     "metadata": {},
     "output_type": "execute_result"
    }
   ],
   "source": [
    "year_distance = pd.read_csv(\"../data/year_distance.csv\")\n",
    "year_distance"
   ]
  },
  {
   "cell_type": "code",
   "execution_count": 7,
   "metadata": {
    "collapsed": false
   },
   "outputs": [
    {
     "data": {
      "text/html": [
       "<table class=\"simpletable\">\n",
       "<caption>OLS Regression Results</caption>\n",
       "<tr>\n",
       "  <th>Dep. Variable:</th>        <td>Distance</td>     <th>  R-squared:         </th> <td>   0.988</td>\n",
       "</tr>\n",
       "<tr>\n",
       "  <th>Model:</th>                   <td>OLS</td>       <th>  Adj. R-squared:    </th> <td>   0.987</td>\n",
       "</tr>\n",
       "<tr>\n",
       "  <th>Method:</th>             <td>Least Squares</td>  <th>  F-statistic:       </th> <td>   682.9</td>\n",
       "</tr>\n",
       "<tr>\n",
       "  <th>Date:</th>             <td>Sat, 13 Dec 2014</td> <th>  Prob (F-statistic):</th> <td>4.94e-09</td>\n",
       "</tr>\n",
       "<tr>\n",
       "  <th>Time:</th>                 <td>03:07:54</td>     <th>  Log-Likelihood:    </th> <td>  26.417</td>\n",
       "</tr>\n",
       "<tr>\n",
       "  <th>No. Observations:</th>      <td>    10</td>      <th>  AIC:               </th> <td>  -48.83</td>\n",
       "</tr>\n",
       "<tr>\n",
       "  <th>Df Residuals:</th>          <td>     8</td>      <th>  BIC:               </th> <td>  -48.23</td>\n",
       "</tr>\n",
       "<tr>\n",
       "  <th>Df Model:</th>              <td>     1</td>      <th>                     </th>     <td> </td>   \n",
       "</tr>\n",
       "<tr>\n",
       "  <th>Covariance Type:</th>      <td>nonrobust</td>    <th>                     </th>     <td> </td>   \n",
       "</tr>\n",
       "</table>\n",
       "<table class=\"simpletable\">\n",
       "<tr>\n",
       "      <td></td>         <th>coef</th>     <th>std err</th>      <th>t</th>      <th>P>|t|</th> <th>[95.0% Conf. Int.]</th> \n",
       "</tr>\n",
       "<tr>\n",
       "  <th>Intercept</th> <td> 1.319e+04</td> <td>    4.245</td> <td> 3106.868</td> <td> 0.000</td> <td> 1.32e+04  1.32e+04</td>\n",
       "</tr>\n",
       "<tr>\n",
       "  <th>Year</th>      <td>    0.0554</td> <td>    0.002</td> <td>   26.132</td> <td> 0.000</td> <td>    0.051     0.060</td>\n",
       "</tr>\n",
       "</table>\n",
       "<table class=\"simpletable\">\n",
       "<tr>\n",
       "  <th>Omnibus:</th>       <td> 0.524</td> <th>  Durbin-Watson:     </th> <td>   2.154</td>\n",
       "</tr>\n",
       "<tr>\n",
       "  <th>Prob(Omnibus):</th> <td> 0.769</td> <th>  Jarque-Bera (JB):  </th> <td>   0.265</td>\n",
       "</tr>\n",
       "<tr>\n",
       "  <th>Skew:</th>          <td>-0.343</td> <th>  Prob(JB):          </th> <td>   0.876</td>\n",
       "</tr>\n",
       "<tr>\n",
       "  <th>Kurtosis:</th>      <td> 2.593</td> <th>  Cond. No.          </th> <td>1.39e+06</td>\n",
       "</tr>\n",
       "</table>"
      ],
      "text/plain": [
       "<class 'statsmodels.iolib.summary.Summary'>\n",
       "\"\"\"\n",
       "                            OLS Regression Results                            \n",
       "==============================================================================\n",
       "Dep. Variable:               Distance   R-squared:                       0.988\n",
       "Model:                            OLS   Adj. R-squared:                  0.987\n",
       "Method:                 Least Squares   F-statistic:                     682.9\n",
       "Date:                Sat, 13 Dec 2014   Prob (F-statistic):           4.94e-09\n",
       "Time:                        03:07:54   Log-Likelihood:                 26.417\n",
       "No. Observations:                  10   AIC:                            -48.83\n",
       "Df Residuals:                       8   BIC:                            -48.23\n",
       "Df Model:                           1                                         \n",
       "Covariance Type:            nonrobust                                         \n",
       "==============================================================================\n",
       "                 coef    std err          t      P>|t|      [95.0% Conf. Int.]\n",
       "------------------------------------------------------------------------------\n",
       "Intercept   1.319e+04      4.245   3106.868      0.000      1.32e+04  1.32e+04\n",
       "Year           0.0554      0.002     26.132      0.000         0.051     0.060\n",
       "==============================================================================\n",
       "Omnibus:                        0.524   Durbin-Watson:                   2.154\n",
       "Prob(Omnibus):                  0.769   Jarque-Bera (JB):                0.265\n",
       "Skew:                          -0.343   Prob(JB):                        0.876\n",
       "Kurtosis:                       2.593   Cond. No.                     1.39e+06\n",
       "==============================================================================\n",
       "\n",
       "Warnings:\n",
       "[1] Standard Errors assume that the covariance matrix of the errors is correctly specified.\n",
       "[2] The condition number is large, 1.39e+06. This might indicate that there are\n",
       "strong multicollinearity or other numerical problems.\n",
       "\"\"\""
      ]
     },
     "execution_count": 7,
     "metadata": {},
     "output_type": "execute_result"
    }
   ],
   "source": [
    "# We don't need to add a slope constant to the design matrix (A) if we're using patsy-style formulas.\n",
    "fit = sm.ols(\n",
    "     formula='Distance ~ Year',\n",
    "     data=year_distance).fit()\n",
    "fit.summary()"
   ]
  },
  {
   "cell_type": "code",
   "execution_count": 8,
   "metadata": {
    "collapsed": false
   },
   "outputs": [
    {
     "data": {
      "text/plain": [
       "Intercept    13187.752806\n",
       "Year             0.055448\n",
       "dtype: float64"
      ]
     },
     "execution_count": 8,
     "metadata": {},
     "output_type": "execute_result"
    }
   ],
   "source": [
    "fit.params"
   ]
  },
  {
   "cell_type": "markdown",
   "metadata": {},
   "source": [
    "**Parameters:**  \n",
    "$a=13187.709$  \n",
    "$b=0.0555$"
   ]
  },
  {
   "cell_type": "markdown",
   "metadata": {},
   "source": [
    "These are the residuals, which we could manually add to our measured values to obtain the line of best fit"
   ]
  },
  {
   "cell_type": "code",
   "execution_count": 9,
   "metadata": {
    "collapsed": false
   },
   "outputs": [
    {
     "data": {
      "text/plain": [
       "0   -0.034982\n",
       "1    0.022570\n",
       "2   -0.002879\n",
       "3    0.025673\n",
       "4    0.007224\n",
       "5   -0.003224\n",
       "6   -0.015673\n",
       "7    0.011879\n",
       "8    0.000430\n",
       "9   -0.011018\n",
       "dtype: float64"
      ]
     },
     "execution_count": 9,
     "metadata": {},
     "output_type": "execute_result"
    }
   ],
   "source": [
    "fit.resid"
   ]
  },
  {
   "cell_type": "code",
   "execution_count": 10,
   "metadata": {
    "collapsed": false
   },
   "outputs": [],
   "source": [
    "# OLS confidence intervals\n",
    "st, data, ss2 = summary_table(fit, alpha=0.05)\n",
    "\n",
    "fittedvalues = data[:,2]\n",
    "predict_mean_se  = data[:,3]\n",
    "predict_mean_ci_low, predict_mean_ci_upp = data[:,4:6].T\n",
    "predict_ci_low, predict_ci_upp = data[:,6:8].T"
   ]
  },
  {
   "cell_type": "code",
   "execution_count": 11,
   "metadata": {
    "collapsed": false
   },
   "outputs": [
    {
     "data": {
      "text/plain": [
       "<matplotlib.figure.Figure at 0x104098750>"
      ]
     },
     "metadata": {},
     "output_type": "display_data"
    },
    {
     "data": {
      "image/png": "[encoded data removed]",
      "text/plain": [
       "<matplotlib.figure.Figure at 0x108b18410>"
      ]
     },
     "metadata": {},
     "output_type": "display_data"
    }
   ],
   "source": [
    "plt.clf()\n",
    "fig = plt.figure()\n",
    "ax = fig.add_subplot(111, axisbg='none')\n",
    "# this will save as 728px (max width for a Github README) when dpi is set to 100\n",
    "fig.set_size_inches(7.28, 5.25)\n",
    "\n",
    "# Original measured values\n",
    "orig = plt.scatter(\n",
    "    year_distance['Year'],\n",
    "    year_distance['Distance'],\n",
    "    color='#006600',\n",
    "    edgecolor='#333333',\n",
    "    marker='o',\n",
    "    s=80,\n",
    "    lw=1,\n",
    "    zorder=2,\n",
    "    alpha=1.)\n",
    "# we need the comma here: http://stackoverflow.com/questions/11983024/matplotlib-legends-not-working\n",
    "# Line of best fit\n",
    "fitted, = plt.plot(\n",
    "    year_distance['Year'],\n",
    "    fit.predict(),\n",
    "    color='#CC00CC',\n",
    "    zorder=1)\n",
    "ax.set_xlabel('Year')\n",
    "ax.set_ylabel('Measured Distance')\n",
    "# let's predict some data\n",
    "years = [1995, 1998.5, 2001.5, 2004.5]\n",
    "predicted = fit.predict(\n",
    "    pd.DataFrame({\n",
    "        'Intercept': np.ones(len(years)),\n",
    "        'Year': years}))\n",
    "pred = plt.scatter(\n",
    "    years,\n",
    "    predicted,\n",
    "    color='#33CCFF',\n",
    "    edgecolor='#333333',\n",
    "    marker='o',\n",
    "    s=80,\n",
    "    lw=1,\n",
    "    alpha=1.0,\n",
    "    zorder=2)\n",
    "\n",
    "cil, = plt.plot(year_distance['Year'], predict_ci_low, 'r--', lw=1, alpha=0.5)\n",
    "ciu, = plt.plot(year_distance['Year'], predict_ci_upp, 'r--', lw=1, alpha=0.5)\n",
    "# mcil, = plt.plot(year_distance['Year'], predict_mean_ci_low, 'b--', lw=1, alpha=0.5)\n",
    "# mciu, = plt.plot(year_distance['Year'], predict_mean_ci_upp, 'b--', lw=1, alpha=0.5)\n",
    "\n",
    "ax.fill_between(year_distance['Year'], predict_ci_low, predict_ci_upp, alpha=0.3)\n",
    "\n",
    "leg = plt.legend(\n",
    "    (orig, fitted, pred, ciu),\n",
    "    ('Measurements', r'Best fit ($\\sigma$:~%0.4f)' % fit.mse_resid, 'Predicted', 'Conf. Interval (95\\%)'),\n",
    "    loc='upper left',\n",
    "    scatterpoints=1,\n",
    "    fontsize=9)\n",
    "\n",
    "plt.title('Distance Measured Each Year')\n",
    "leg.get_frame().set_alpha(0.5)\n",
    "ax.spines['top'].set_visible(False)\n",
    "ax.spines['right'].set_visible(False)\n",
    "ax.grid(b=None)\n",
    "plt.tight_layout()\n",
    "plt.savefig('../OLS.png', format=\"png\", bbox_inches='tight', alpha=True, transparent=True, dpi=100)"
   ]
  },
  {
   "cell_type": "code",
   "execution_count": null,
   "metadata": {
    "collapsed": false
   },
   "outputs": [],
   "source": []
  }
 ],
 "metadata": {
  "kernelspec": {
   "display_name": "Python 2",
   "language": "python",
   "name": "python2"
  },
  "language_info": {
   "codemirror_mode": {
    "name": "ipython",
    "version": 2
   },
   "file_extension": ".py",
   "mimetype": "text/x-python",
   "name": "python",
   "nbconvert_exporter": "python",
   "pygments_lexer": "ipython2",
   "version": "2.7.10"
  }
 },
 "nbformat": 4,
 "nbformat_minor": 0
}
